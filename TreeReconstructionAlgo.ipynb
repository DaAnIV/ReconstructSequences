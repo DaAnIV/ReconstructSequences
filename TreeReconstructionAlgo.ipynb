{
 "cells": [
  {
   "cell_type": "code",
   "execution_count": 7,
   "metadata": {},
   "outputs": [],
   "source": [
    "import numpy as np\n",
    "import math\n",
    "import itertools\n",
    "from functools import cache"
   ]
  },
  {
   "cell_type": "code",
   "execution_count": 8,
   "metadata": {},
   "outputs": [],
   "source": [
    "class SequenceTreeNode:\n",
    "    def __init__(self):\n",
    "        self.children = [None, None]\n",
    "        self.number_of_leafs = 0\n",
    "        self.contains_0_vector = False\n",
    "        self.contains_1_vector = False\n",
    "\n",
    "    def has_sequence(self, x):\n",
    "        node = self\n",
    "        for c in x:\n",
    "            if node.children[c] is None:\n",
    "                return False\n",
    "            node = node.children[c]\n",
    "\n",
    "    def insert_sequence(self, x):\n",
    "        if self.has_sequence(x):\n",
    "            return\n",
    "\n",
    "        self.__insert_sequence_internal(x)\n",
    "\n",
    "    def __insert_sequence_internal(self, x):\n",
    "        self.number_of_leafs += 1\n",
    "        if np.all(x==0):\n",
    "            self.contains_0_vector = True   \n",
    "        elif np.all(x==1):\n",
    "            self.contains_1_vector = True   \n",
    "\n",
    "        if len(x) == 0:\n",
    "            return\n",
    "\n",
    "        letter = x[0]\n",
    "        if self.children[letter] is None:\n",
    "            self.children[letter] = SequenceTreeNode()\n",
    "        \n",
    "        self.insert_sequence(x[1:])\n"
   ]
  },
  {
   "cell_type": "code",
   "execution_count": 12,
   "metadata": {},
   "outputs": [],
   "source": [
    "U = SequenceTreeNode()\n",
    "U.insert_sequence([0, 1, 0, 1, 0])\n",
    "U.insert_sequence([0, 1, 0, 1, 0])\n",
    "U.insert_sequence([1, 1, 0, 1, 0])\n",
    "print(U)"
   ]
  },
  {
   "cell_type": "code",
   "execution_count": 10,
   "metadata": {},
   "outputs": [],
   "source": [
    "@cache\n",
    "def get_maximal_deletion_ball_size(n, t):\n",
    "    if n < t or t < 0:\n",
    "        return 0\n",
    "\n",
    "    size = 0\n",
    "    for i in range(t+1):\n",
    "        size += math.comb(n-t, i) * get_maximal_deletion_ball_size(t, t-i)\n",
    "    return size\n",
    "\n",
    "@cache\n",
    "def get_maximal_number_of_common_subsequences(n, t):\n",
    "    if n <= t or t <= 0:\n",
    "        return 0\n",
    "    return get_maximal_deletion_ball_size(n,t) - get_maximal_deletion_ball_size(n-1,t) + get_maximal_deletion_ball_size(n-2,t-1)"
   ]
  }
 ],
 "metadata": {
  "interpreter": {
   "hash": "078053bbab75fbf7eb4b9f649af4f5558dc3b37fe5108a29c23a862315260ae3"
  },
  "kernelspec": {
   "display_name": "Python 3.10.0 ('CnA4M')",
   "language": "python",
   "name": "python3"
  },
  "language_info": {
   "codemirror_mode": {
    "name": "ipython",
    "version": 3
   },
   "file_extension": ".py",
   "mimetype": "text/x-python",
   "name": "python",
   "nbconvert_exporter": "python",
   "pygments_lexer": "ipython3",
   "version": "3.10.0"
  },
  "orig_nbformat": 4
 },
 "nbformat": 4,
 "nbformat_minor": 2
}
