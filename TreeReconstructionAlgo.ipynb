{
 "cells": [
  {
   "cell_type": "code",
   "execution_count": 160,
   "metadata": {},
   "outputs": [],
   "source": [
    "import numpy as np\n",
    "import math\n",
    "import itertools\n",
    "from functools import cache"
   ]
  },
  {
   "cell_type": "code",
   "execution_count": 161,
   "metadata": {},
   "outputs": [],
   "source": [
    "class SequenceTreeNode:\n",
    "    def __init__(self):\n",
    "        self.children = np.array([None, None])\n",
    "        self.char = -1\n",
    "        self.number_of_leafs = 0\n",
    "        self.contains_0_vector = False\n",
    "        self.contains_1_vector = False\n",
    "\n",
    "    def has_sequence(self, x):\n",
    "        node = self\n",
    "        for i,c in enumerate(x):\n",
    "            if i == len(x)-1:\n",
    "                return True\n",
    "            if node.children[c] is None:\n",
    "                return False\n",
    "            node = node.children[c]\n",
    "\n",
    "    def insert_sequence(self, x):\n",
    "        if self.has_sequence(x):\n",
    "            return\n",
    "\n",
    "        self.__insert_sequence_internal(x)\n",
    "\n",
    "    def __insert_sequence_internal(self, x):\n",
    "        self.number_of_leafs += 1\n",
    "        if np.all(x==0):\n",
    "            self.contains_0_vector = True   \n",
    "        elif np.all(x==1):\n",
    "            self.contains_1_vector = True   \n",
    "\n",
    "        if x.shape[0] == 0:\n",
    "            return\n",
    "\n",
    "        letter = x[0]\n",
    "        if self.children[letter] is None:\n",
    "            self.children[letter] = SequenceTreeNode()\n",
    "\n",
    "        self.children[letter].char = letter\n",
    "        self.children[letter].__insert_sequence_internal(x[1:])\n",
    "\n",
    "    def print_tree(self):\n",
    "        self.__print_tree(0)\n",
    "\n",
    "    def __print_tree(self, depth):\n",
    "        print(f'({depth}) - char {self.char} has {self.number_of_leafs} sequences.\\n\\t\\\n",
    "            contains the 0 vector: {self.contains_0_vector}\\n\\t\\\n",
    "            contains the 1 vector: {self.contains_1_vector}')\n",
    "        for child in self.children:\n",
    "            if child is not None:\n",
    "               child.__print_tree(depth+1)\n",
    "\n",
    "    def print_all_sequences(self):\n",
    "        self.__print_all_sequences(np.array([], dtype=np.ubyte))\n",
    "\n",
    "    \n",
    "    def __print_all_sequences(self, path):\n",
    "        if np.all(self.children == None):\n",
    "            print(path)\n",
    "        for child in self.children:\n",
    "            if child is None:\n",
    "                continue\n",
    "            child.__print_all_sequences(np.append(path, child.char))\n"
   ]
  },
  {
   "cell_type": "code",
   "execution_count": 162,
   "metadata": {},
   "outputs": [],
   "source": [
    "@cache\n",
    "def get_maximal_deletion_ball_size(n, t):\n",
    "    if n < t or t < 0:\n",
    "        return 0\n",
    "\n",
    "    size = 0\n",
    "    for i in range(t+1):\n",
    "        size += math.comb(n-t, i) * get_maximal_deletion_ball_size(t, t-i)\n",
    "    return size\n",
    "\n",
    "@cache\n",
    "def get_maximal_number_of_common_subsequences(n, t):\n",
    "    if n <= t or t <= 0:\n",
    "        return 0\n",
    "    return get_maximal_deletion_ball_size(n,t) - get_maximal_deletion_ball_size(n-1,t) + get_maximal_deletion_ball_size(n-2,t-1)"
   ]
  },
  {
   "cell_type": "code",
   "execution_count": 163,
   "metadata": {},
   "outputs": [],
   "source": [
    "def get_ordering(U):\n",
    "    k = np.zeros_like(U.children)\n",
    "    for i, child in enumerate(U.children):\n",
    "        k[i] = child.number_of_leafs\n",
    "    t = np.argsort(-k, kind='stable') # -k so it will be in descending order\n",
    "    c = k[t]\n",
    "    return t, c"
   ]
  },
  {
   "cell_type": "code",
   "execution_count": 164,
   "metadata": {},
   "outputs": [],
   "source": [
    "def get_deletion_ball_tree(x, t, N=-1):\n",
    "    result = SequenceTreeNode()\n",
    "    for c in itertools.combinations(x, x.size-t):\n",
    "        result.insert_sequence(np.array(c))\n",
    "        if result.number_of_leafs == N:\n",
    "            break\n",
    "\n",
    "    return result"
   ]
  },
  {
   "cell_type": "code",
   "execution_count": 165,
   "metadata": {},
   "outputs": [
    {
     "name": "stdout",
     "output_type": "stream",
     "text": [
      "x = [0 1 1 1]\n",
      "\n",
      "[0 1 1]\n",
      "[1 1 1]\n",
      "(0) - char -1 has 2 sequences.\n",
      "\t            contains the 0 vector: False\n",
      "\t            contains the 1 vector: True\n",
      "(1) - char 0 has 1 sequences.\n",
      "\t            contains the 0 vector: False\n",
      "\t            contains the 1 vector: True\n",
      "(2) - char 1 has 1 sequences.\n",
      "\t            contains the 0 vector: False\n",
      "\t            contains the 1 vector: True\n",
      "(3) - char 1 has 1 sequences.\n",
      "\t            contains the 0 vector: True\n",
      "\t            contains the 1 vector: False\n",
      "(1) - char 1 has 1 sequences.\n",
      "\t            contains the 0 vector: False\n",
      "\t            contains the 1 vector: True\n",
      "(2) - char 1 has 1 sequences.\n",
      "\t            contains the 0 vector: False\n",
      "\t            contains the 1 vector: True\n",
      "(3) - char 1 has 1 sequences.\n",
      "\t            contains the 0 vector: True\n",
      "\t            contains the 1 vector: False\n"
     ]
    }
   ],
   "source": [
    "n = 4\n",
    "t = 1\n",
    "q = 2\n",
    "x=np.random.randint(0,q,(n),dtype=np.ubyte)\n",
    "D_x = get_deletion_ball_tree(x, t)\n",
    "print(f'x = {x}')\n",
    "print()\n",
    "D_x.print_all_sequences()\n",
    "D_x.print_tree()"
   ]
  }
 ],
 "metadata": {
  "interpreter": {
   "hash": "078053bbab75fbf7eb4b9f649af4f5558dc3b37fe5108a29c23a862315260ae3"
  },
  "kernelspec": {
   "display_name": "Python 3.10.0 ('CnA4M')",
   "language": "python",
   "name": "python3"
  },
  "language_info": {
   "codemirror_mode": {
    "name": "ipython",
    "version": 3
   },
   "file_extension": ".py",
   "mimetype": "text/x-python",
   "name": "python",
   "nbconvert_exporter": "python",
   "pygments_lexer": "ipython3",
   "version": "3.10.0"
  },
  "orig_nbformat": 4
 },
 "nbformat": 4,
 "nbformat_minor": 2
}
