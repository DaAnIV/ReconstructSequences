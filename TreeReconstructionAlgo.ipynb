{
 "cells": [
  {
   "cell_type": "markdown",
   "metadata": {},
   "source": [
    "# Improved Tree Algorithm\n",
    "\n",
    "we will show the complexity calculation of each of the relevant functions and sum up the complexity for the algorithm as a whole."
   ]
  },
  {
   "cell_type": "code",
   "execution_count": 1,
   "metadata": {},
   "outputs": [],
   "source": [
    "import numpy as np\n",
    "import copy\n",
    "import math\n",
    "import itertools\n",
    "from functools import cache"
   ]
  },
  {
   "cell_type": "markdown",
   "metadata": {},
   "source": [
    "### Optimisation route - using a binary char tree\n",
    "\n",
    "We implemented a ranked char tree to save going over each entire sequence when computing  $\\overline{U^{a,i}}$, and to make get_ordering more efficient.\n",
    "\n",
    "**each node contains the following ranks:**\n",
    "\n",
    "* height - height of the subtree.\n",
    "* size - number of leaves in the subtree.\n",
    "* contains_1_vector - is the $\\overline{1}$ vector contained in the subtree.\n",
    "* contains_0_vector - is the $\\overline{0}$ vector contained in the subtree."
   ]
  },
  {
   "cell_type": "code",
   "execution_count": 2,
   "metadata": {},
   "outputs": [],
   "source": [
    "class SequenceTreeNode:\n",
    "    def __init__(self):\n",
    "        self.children = np.array([None, None])\n",
    "        self.char = -1\n",
    "        self.height = 0\n",
    "        self.size = 0\n",
    "        self.contains_0_vector = False\n",
    "        self.contains_1_vector = False\n",
    "\n",
    "    def has_sequence(self, x):\n",
    "        node = self\n",
    "        for i,c in enumerate(x):\n",
    "            if node.children[c] is None:\n",
    "                return False\n",
    "            node = node.children[c]\n",
    "        return True\n",
    "\n",
    "    def insert_sequence(self, x):\n",
    "        if self.has_sequence(x):\n",
    "            return\n",
    "\n",
    "        self.__insert_sequence_internal(x)\n",
    "\n",
    "    def __insert_sequence_internal(self, x):\n",
    "        self.size += 1\n",
    "        if x.size == 0:\n",
    "            return\n",
    "\n",
    "        self.height = x.size\n",
    "\n",
    "        if np.all(x==0):\n",
    "            self.contains_0_vector = True   \n",
    "        elif np.all(x==1):\n",
    "            self.contains_1_vector = True \n",
    "\n",
    "        letter = x[0]\n",
    "        if self.children[letter] is None:\n",
    "            self.children[letter] = SequenceTreeNode()\n",
    "\n",
    "        self.children[letter].char = letter\n",
    "        self.children[letter].__insert_sequence_internal(x[1:])\n",
    "\n",
    "    def print_tree(self):\n",
    "        self.__print_tree(0)\n",
    "\n",
    "    def __print_tree(self, depth):\n",
    "        print(f'({depth}) - char {self.char} has {self.size} sequences.\\n\\t\\\n",
    "            contains the 0 vector: {self.contains_0_vector}\\n\\t\\\n",
    "            contains the 1 vector: {self.contains_1_vector}')\n",
    "        for child in self.children:\n",
    "            if child is not None:\n",
    "               child.__print_tree(depth+1)\n",
    "\n",
    "    def print_all_sequences(self):\n",
    "        self.__print_all_sequences(np.array([], dtype=np.ubyte))\n",
    "\n",
    "    \n",
    "    def __print_all_sequences(self, path):\n",
    "        if np.all(self.children == None):\n",
    "            print(path)\n",
    "        for child in self.children:\n",
    "            if child is None:\n",
    "                continue\n",
    "            child.__print_all_sequences(np.append(path, child.char))\n",
    "\n",
    "    def decrease_size_by(self, k):\n",
    "        if k <= 0:\n",
    "            return\n",
    "\n",
    "        self.size -= k\n",
    "\n",
    "        if self.children[0] is not None and self.children[0].size <= k:\n",
    "            self.children[1].decrease_size_by(k - self.children[0].size)\n",
    "            self.children[0] = None\n",
    "            return\n",
    "        elif self.children[1] is not None and self.children[1].size <= k:\n",
    "            self.children[0].decrease_size_by(k - self.children[1].size)\n",
    "            self.children[1] = None\n",
    "            return\n",
    "\n",
    "        if self.children[0] is not None:\n",
    "            self.children[0].decrease_size_by(k)\n",
    "        else: \n",
    "            self.children[1].decrease_size_by(k)\n",
    "        \n",
    "\n",
    "    def decrease_size_to(self, N):\n",
    "        self.decrease_size_by(self.size - N)\n",
    "\n",
    "    def get_unique_path(self):\n",
    "        if self.size != 1:\n",
    "            raise Exception()\n",
    "\n",
    "        path = []\n",
    "\n",
    "        node = self\n",
    "        while node.height > 0:\n",
    "            if node.children[0] is not None:\n",
    "                path.append(0)\n",
    "                node = node.children[0]\n",
    "            else:\n",
    "                path.append(1)\n",
    "                node = node.children[1]\n",
    "        \n",
    "        return np.array(path, dtype=int)"
   ]
  },
  {
   "cell_type": "code",
   "execution_count": 3,
   "metadata": {},
   "outputs": [
    {
     "name": "stdout",
     "output_type": "stream",
     "text": [
      "[0 1 0 1 1 0]\n"
     ]
    }
   ],
   "source": [
    "U = SequenceTreeNode()\n",
    "U.insert_sequence(np.array([0, 1, 0, 1, 1, 0]))\n",
    "print(U.get_unique_path())"
   ]
  },
  {
   "cell_type": "markdown",
   "metadata": {},
   "source": [
    "**get_u_a_i:**\n",
    "\n",
    "input - $U$ sequence tree of height $n$, a char in $F_{2}$, $i$ index $\\leq n$.\n",
    "\n",
    "output - $\\overline{U^{a,i}}$.\n",
    "\n",
    "Returns the correct subtree whose root is unde the path $p=(1-a, 1-a,\\dots, 1-a, a)$ where $p$'s length is $i$. In total to get the subtree the complexity is $O\\left(i\\right)$."
   ]
  },
  {
   "cell_type": "code",
   "execution_count": 4,
   "metadata": {},
   "outputs": [],
   "source": [
    "def get_u_a_i(U, a, i):\n",
    "    root = SequenceTreeNode()\n",
    "    node = U\n",
    "    for j in range(i-1):\n",
    "        node = node.children[1-a]        \n",
    "        if node is None:\n",
    "            return root\n",
    "    \n",
    "    node = node.children[a]\n",
    "    if node is None:\n",
    "        return root\n",
    "\n",
    "    root = copy.copy(node)\n",
    "    root.char = -1\n",
    "    \n",
    "    return root"
   ]
  },
  {
   "cell_type": "markdown",
   "metadata": {},
   "source": [
    "# Reconstruction from subsequences tree algorithm:\n",
    "\n",
    "Reconstruct a sequence $x$ of size $n$ from $N_q^-(n,t)+1$ of $x's$ subsequences tree of size $n-t$."
   ]
  },
  {
   "cell_type": "markdown",
   "metadata": {},
   "source": [
    "**get_composition_vector:**\n",
    "\n",
    "input - $U$ sequence tree.\n",
    "\n",
    "output - $k$ composition vector.\n",
    "\n",
    "uses the rank of the tree to calculate how many vectors start with $0$ or $1$ with complexity of $O\\left(1\\right)$."
   ]
  },
  {
   "cell_type": "code",
   "execution_count": 5,
   "metadata": {},
   "outputs": [],
   "source": [
    "def get_composition_vector(U):\n",
    "    k = np.zeros_like(U.children)\n",
    "    for i, child in enumerate(U.children):\n",
    "        if child is None:\n",
    "            k[i] = 0\n",
    "        else:\n",
    "            k[i] = child.size\n",
    "    return k"
   ]
  },
  {
   "cell_type": "markdown",
   "metadata": {},
   "source": [
    "**get_ordering:**\n",
    "\n",
    "input - $U$ sequence tree.\n",
    "\n",
    "output - $t$ ordered permutation, $c$ ordered composition.\n",
    "\n",
    "uses get_composition_vector $O\\left(1\\right)$, argsort on the histogram to return the ordering permutation $O\\left(q\\log\\left(q\\right)\\right)$, and returns the ordered composition $O\\left(q\\right)$.\n",
    "\n",
    "$q=2$ is a constant so get ordering has the complexity of $O\\left(1\\right)$."
   ]
  },
  {
   "cell_type": "code",
   "execution_count": 6,
   "metadata": {},
   "outputs": [],
   "source": [
    "def get_ordering(U):\n",
    "    k = get_composition_vector(U)\n",
    "    t = np.argsort(-k, kind='stable') # -k so it will be in descending order\n",
    "    c = k[t]\n",
    "    return t, c"
   ]
  },
  {
   "cell_type": "markdown",
   "metadata": {},
   "source": [
    "**get_maximal_deletion_ball_size:**\n",
    "\n",
    "input - $n$ original sequence size, $t$ deletion ball radius.\n",
    "\n",
    "output - maximal deletion ball size.\n",
    "\n",
    "loops for $t+1$ iterations with counter i and in each computes ${n-t \\choose i}$ since we know $t<<n$ this has the complexity $O\\left(n\\right)$.\n",
    "\n",
    "in total the function has the complexity of $O\\left(nt\\right)$."
   ]
  },
  {
   "cell_type": "code",
   "execution_count": 7,
   "metadata": {},
   "outputs": [],
   "source": [
    "@cache\n",
    "def get_maximal_deletion_ball_size(n, t, q=2):\n",
    "    if n < t or t < 0:\n",
    "        return 0\n",
    "    if q == 1:\n",
    "        return 1\n",
    "\n",
    "    size = 0\n",
    "    for i in range(t+1):\n",
    "        size += math.comb(n-t, i) * get_maximal_deletion_ball_size(t, t-i, q-1)\n",
    "    return size"
   ]
  },
  {
   "cell_type": "markdown",
   "metadata": {},
   "source": [
    "**get_maximal_number_of_common_subsequences:**\n",
    "\n",
    "input - $n$ original sequence size, $t$ deletion ball radius, $q$ alphabet size - constant.\n",
    "\n",
    "output - maximal number of common subsequences.\n",
    "\n",
    "calls get_maximal_deletion_ball_size $3$ times with $n\\pm const$, $t\\pm const$ which has a complexity of $O\\left(3nt\\right)=O\\left(nt\\right)$."
   ]
  },
  {
   "cell_type": "code",
   "execution_count": 8,
   "metadata": {},
   "outputs": [],
   "source": [
    "@cache\n",
    "def get_maximal_number_of_common_subsequences(n, t):\n",
    "    if n <= t or t <= 0:\n",
    "        return 0\n",
    "    return get_maximal_deletion_ball_size(n,t) - get_maximal_deletion_ball_size(n-1,t) + get_maximal_deletion_ball_size(n-2,t-1)"
   ]
  },
  {
   "cell_type": "markdown",
   "metadata": {},
   "source": [
    "**get_subsequence_reconstruction_threshold:**\n",
    "\n",
    "input - $n$ original sequence size, $t$ insertion ball radius, $order\\_comp$ ordered composition (vec of size $q$), $q$ alphabet size - constant.\n",
    "\n",
    "output - threshold on ordered composition using $\\tau_{i}=N_{q}^{-}\\left(n-i-1,\\,t-i\\right)$.\n",
    "\n",
    "loops $q$ times and calls get_maximal_number_of_common_subsequences on each iteration $O\\left(qnt\\right)=O\\left(nt\\right)$."
   ]
  },
  {
   "cell_type": "code",
   "execution_count": 9,
   "metadata": {},
   "outputs": [],
   "source": [
    "def get_subsequence_reconstruction_threshold(n, t, order_comp):\n",
    "    for i, w_i in enumerate(order_comp):\n",
    "        tau_i = get_maximal_number_of_common_subsequences(n-i-1,t-i)\n",
    "        if w_i > tau_i:\n",
    "            return i"
   ]
  },
  {
   "cell_type": "markdown",
   "metadata": {},
   "source": [
    "### reconstruct_x_from_subsequences_tree:\n",
    "\n",
    "The following algorithm reconstructs a sequence $X \\in F_2^n$ given $N_2^-(n,t)+1$ different subsequences of $x$ of size $n-t$\\\n",
    "The algorithm parameters:\n",
    "* **n**             - The original sequence size to reconstruct.\n",
    "* **subsequences**  - known subsequences of $x$, this is a sequence tree of height $n-t$ and size of at least $N_2^-(n,t)+1$\n",
    "* **verbose**       - control verbosity.\n",
    "\n",
    "\n",
    "**Complexity:**\n",
    "\n",
    "The algorithm loops at most $n$ times, in each iteration:\n",
    "\n",
    "• call get_ordering, complexity $\\leq O\\left(1\\right)$.\n",
    "\n",
    "• call get_subsequence_reconstruction_threshold, complexity $\\leq O\\left(nt\\right)$.\n",
    "\n",
    "• concatenate, complexity $\\leq O\\left(n\\right)$.\n",
    "\n",
    "• call get_maximal_number_of_common_subsequences, complexity $\\leq O\\left(nt\\right)$.\n",
    "\n",
    "• call get_u_a_i (with i==1), complexity $\\leq O\\left(1\\right)$.\n",
    "\n",
    "getting us in total a complexity of $O\\left(n^{2}t\\right)$."
   ]
  },
  {
   "cell_type": "code",
   "execution_count": 10,
   "metadata": {},
   "outputs": [],
   "source": [
    "def reconstruct_x_from_subsequences_tree(n, U, verbose=False):\n",
    "    t = n-U.height\n",
    "    reconstruction = np.array([], dtype=int)\n",
    "    N = get_maximal_number_of_common_subsequences(n,t)+1\n",
    "    while t >= 1:\n",
    "        order_perm, order_comp = get_ordering(U)\n",
    "        if verbose:\n",
    "            print(f'n: {n}, t: {t}, U: ({U.size}, {U.height}), N: {N}')\n",
    "            print(f'perm: {order_perm}, comp: {order_comp}')\n",
    "        j = get_subsequence_reconstruction_threshold(n, t, order_comp)\n",
    "        reconstruction = np.concatenate((reconstruction, order_perm[:j+1]))\n",
    "        if verbose:\n",
    "            print(j, reconstruction)\n",
    "\n",
    "        n = n-j-1\n",
    "        t = t-j    \n",
    "        N = get_maximal_number_of_common_subsequences(n,t)+1\n",
    "        U = get_u_a_i(U, order_perm[j], 1)\n",
    "        U.decrease_size_to(N)\n",
    "        \n",
    "    if verbose:\n",
    "        print(U.size, U.get_unique_path())\n",
    "\n",
    "    return np.concatenate((reconstruction, U.get_unique_path()))"
   ]
  },
  {
   "cell_type": "markdown",
   "metadata": {},
   "source": [
    "Using the optimized algorithm for q=2:"
   ]
  },
  {
   "cell_type": "markdown",
   "metadata": {},
   "source": [
    "Use get_deletion_ball to construct the $t$ deletion ball of $x$, we will use $N_q^-(n,t)+1$ sequences from it to reconstruct $x$."
   ]
  },
  {
   "cell_type": "code",
   "execution_count": 11,
   "metadata": {},
   "outputs": [],
   "source": [
    "def get_deletion_ball_tree(x, t, N=-1):\n",
    "    result = SequenceTreeNode()\n",
    "    for c in itertools.combinations(x, x.size-t):\n",
    "        result.insert_sequence(np.array(c))\n",
    "        if result.size == N:\n",
    "            break\n",
    "\n",
    "    return result"
   ]
  },
  {
   "cell_type": "code",
   "execution_count": 12,
   "metadata": {},
   "outputs": [],
   "source": [
    "n = 100\n",
    "t = 3\n",
    "q = 2\n",
    "\n",
    "x=np.random.randint(0,q,(n),dtype=np.ubyte)\n",
    "N = get_maximal_number_of_common_subsequences(n,t)+1\n",
    "D_x = get_deletion_ball_tree(x, t, N)\n",
    "\n",
    "while D_x.size < N:\n",
    "    x=np.random.randint(0,q,(n),dtype=np.ubyte)\n",
    "    D_x = get_deletion_ball_tree(x, t, N)"
   ]
  },
  {
   "cell_type": "code",
   "execution_count": 13,
   "metadata": {},
   "outputs": [],
   "source": [
    "subsequences = get_deletion_ball_tree(x, t, N)"
   ]
  },
  {
   "cell_type": "code",
   "execution_count": 14,
   "metadata": {},
   "outputs": [
    {
     "name": "stdout",
     "output_type": "stream",
     "text": [
      "n = 100, t = 3, q = 2, N = 9315\n",
      "Reconstructed [1 1 1 1 0 0 0 1 1 0 0 1 1 0 0 0 0 1 1 0 0 1 0 0 0 0 0 0 1 0 0 1 0 0 0 0 1\n",
      " 1 1 1 0 0 0 1 1 0 1 0 0 0 0 1 0 1 1 0 0 0 1 0 1 1 0 0 0 0 0 0 1 1 0 0 0 0\n",
      " 1 1 0 1 1 0 0 1 0 1 1 1 1 0 1 0 1 1 0 0 0 0 1 1 1 0]\n",
      "From [1 1 1 1 0 0 0 1 1 0 0 1 1 0 0 0 0 1 1 0 0 1 0 0 0 0 0 0 1 0 0 1 0 0 0 0 1\n",
      " 1 1 1 0 0 0 1 1 0 1 0 0 0 0 1 0 1 1 0 0 0 1 0 1 1 0 0 0 0 0 0 1 1 0 0 0 0\n",
      " 1 1 0 1 1 0 0 1 0 1 1 1 1 0 1 0 1 1 0 0 0 0 1 1 1 0]\n",
      "True\n",
      "23.3 ms ± 0 ns per loop (mean ± std. dev. of 1 run, 1 loop each)\n"
     ]
    }
   ],
   "source": [
    "%%timeit -r1 -n1\n",
    "\n",
    "print(f'n = {n}, t = {t}, q = {q}, N = {N}')\n",
    "reconstructed_x = reconstruct_x_from_subsequences_tree(n, subsequences)\n",
    "print(f'Reconstructed {reconstructed_x}')\n",
    "print(f'From {x}')\n",
    "print(np.array_equal(x, reconstructed_x))"
   ]
  },
  {
   "cell_type": "markdown",
   "metadata": {},
   "source": [
    "# Reconstruction from supersequences tree algorithm:\n",
    "\n",
    "Reconstruct a sequence $x$ of size $n$ from $N_q^+(n,t)+1$ of $x's$ supersequences tree of size $n+t$."
   ]
  },
  {
   "cell_type": "markdown",
   "metadata": {},
   "source": [
    "**get_maximal_insertion_ball_size:**\n",
    "\n",
    "input - $n$ original sequence size, $t$ insertion ball radius, $q$ alphabet size - constant.\n",
    "\n",
    "output - maximal insertion ball size.\n",
    "\n",
    "assuming $q=2$ the recursive call in the function will only take $O\\left(1\\right)$ complexity.\n",
    "\n",
    "loops for $t+1$ iterations with counter $i$ and in each computes ${n+t \\choose i}$ since we know $t<<n$ this has the complexity $O\\left(n\\right)$.\n",
    "\n",
    "in total the function has the complexity of $O\\left(nt\\right)$."
   ]
  },
  {
   "cell_type": "code",
   "execution_count": 15,
   "metadata": {},
   "outputs": [],
   "source": [
    "@cache\n",
    "def get_maximal_insertion_ball_size(n, t):\n",
    "    if n < 0 or t < 0:\n",
    "        return 0\n",
    "    size = 0\n",
    "    for i in range(t+1):\n",
    "        size += math.comb(n+t, i)\n",
    "    return size"
   ]
  },
  {
   "cell_type": "markdown",
   "metadata": {},
   "source": [
    "**get_maximal_number_of_common_supersequences:**\n",
    "\n",
    "input - $n$ original sequence size, $t$ insertion ball radius.\n",
    "\n",
    "loop $t$ times, on each loop call get_maximal_insertion_ball_size getting us an overall complexity of $O\\left(nt^{2}\\right)$."
   ]
  },
  {
   "cell_type": "code",
   "execution_count": 16,
   "metadata": {},
   "outputs": [],
   "source": [
    "@cache\n",
    "def get_maximal_number_of_common_supersequences(n, t):\n",
    "    if t <= 0:\n",
    "        return 0\n",
    "    result = 0\n",
    "    for i in range(1, t+1):\n",
    "        result += get_maximal_insertion_ball_size(n,t-i)\n",
    "    return 2*result"
   ]
  },
  {
   "cell_type": "markdown",
   "metadata": {},
   "source": [
    "**get_m_vector:**\n",
    "\n",
    "input - $U$ sequence tree of height $n$ and size $N$, $t$ insertion ball radius, $a$ char in $F_{2}$.\n",
    "\n",
    "output - $m\\left(a\\right)$ vector.\n",
    "\n",
    "loop $t+1$ times, with counter $i$, on each loop call get_u_a_i($i+1$) with complexity of $O\\left(i\\right)$.\n",
    "\n",
    "getting us a total complexity of $O\\left(t^{2}\\right)$."
   ]
  },
  {
   "cell_type": "code",
   "execution_count": 17,
   "metadata": {},
   "outputs": [],
   "source": [
    "def get_m_vector(U, t, a):\n",
    "    m_vec = np.zeros((t+1,), dtype=np.uint)\n",
    "    for i in range(t+1):\n",
    "        u_a_i = get_u_a_i(U, a, i+1)\n",
    "        m_vec[i] = u_a_i.size\n",
    "\n",
    "    return m_vec"
   ]
  },
  {
   "cell_type": "markdown",
   "metadata": {},
   "source": [
    "**get_first_x:**\n",
    "\n",
    "input - $U$ supersequence tree of height $n$ and size $N$, $t$ insertion ball radius.\n",
    "\n",
    "output - $x_{1}$ first letter of $x$, $m\\left(x_{1}\\right)$ the $m$ vector of $x_{1}$ as defined in the paper. \n",
    "\n",
    "calls get_m_vector 2 times $O\\left(t^{2}\\right)$, sums each the two $m\\left(a\\right)$ vectors (which are of size $t+1$) $O\\left(t\\right)$, calculates $U_{0,1}$ and $U_{1,0}$ using the sequence tree ranks with complexity of $O(1)$\n",
    "\n",
    "in summary we get a complexity of $O\\left(t^{2}\\right)$."
   ]
  },
  {
   "cell_type": "code",
   "execution_count": 18,
   "metadata": {},
   "outputs": [],
   "source": [
    "def get_first_x(U, t):\n",
    "    N = U.size\n",
    "    candidates = []\n",
    "    for i in range(2):\n",
    "        m_v = get_m_vector(U, t, i)\n",
    "        if m_v.sum() == N:\n",
    "            candidates.append((i, m_v))\n",
    "\n",
    "    if len(candidates) == 1:\n",
    "        return candidates[0]\n",
    "\n",
    "    U_0_1 = 0\n",
    "    U_1_0 = 0\n",
    "\n",
    "    if U.children[0] is not None:\n",
    "        U_0_1 = U.children[0].size - (1 if U.contains_0_vector else 0)\n",
    "    if U.children[1] is not None:\n",
    "        U_1_0 = U.children[1].size - (1 if U.contains_1_vector else 0)\n",
    "\n",
    "    # Since len(candidates)>1 then both 0 and 1 are candidates \n",
    "    # and because we added them by order candidates[0] represents 0\n",
    "    if U_0_1 > U_1_0:\n",
    "        return candidates[0] \n",
    "    \n",
    "    return candidates[1]"
   ]
  },
  {
   "cell_type": "markdown",
   "metadata": {},
   "source": [
    "**get_supersequence_reconstruction_threshold:**\n",
    "\n",
    "input - $n$ length of sequence, $t$ insertion ball radius, $m\\left(x_{1}\\right)$ $m$ vector of $x_{1}$.\n",
    "\n",
    "output - threshold for $m\\left(x_{1}\\right)$ with $\\tau_{i}=N_{q}^{+}\\left(n-1,t-i\\right)$.\n",
    "\n",
    "loop $t$ times, with counter $i$, calculate $\\tau_{i}$ on each loop $O\\left(ni^{2}\\right)$.\n",
    "\n",
    "getting us a total complexity $O\\left(nt^{3}\\right)$."
   ]
  },
  {
   "cell_type": "code",
   "execution_count": 19,
   "metadata": {},
   "outputs": [],
   "source": [
    "def get_supersequence_resonstruction_threshold(n, t, m_v):\n",
    "    t = m_v.size - 1\n",
    "    for i, w_i in enumerate(m_v):\n",
    "        tau_i = get_maximal_number_of_common_supersequences(n-1,t-i)\n",
    "        if w_i > tau_i:\n",
    "            return i"
   ]
  },
  {
   "cell_type": "markdown",
   "metadata": {},
   "source": [
    "### reconstruct_x_from_supersequences_tree:\n",
    "\n",
    "The following algorithm reconstructs a sequence $x \\in F_2^n$ given $N_2^+(n,t)+1$ different subsequences of $x$ of size $n+t$\\\n",
    "The algorithm parameters:\n",
    "* **n**             - The original sequence size to reconstruct.\n",
    "* **subsequences**  - known subsequences of $x$, this is a subsequence tree of height $n+t$ and size of at least $N_q^+(n,t)+1$.\n",
    "* **verbose**       - control verbosity.\n",
    "\n",
    "**Complexity:**\n",
    "The algorithm loops at most $n$ times:\n",
    "\n",
    "• get_first_x, complexity $\\leq O\\left(t^{2}\\right)$.\n",
    "\n",
    "• get_supersequence_reconstruction_threshold, complexity $\\leq O\\left(nt^{3}\\right)$.\n",
    "\n",
    "• get_u_a_i, complexity $\\leq O\\left(t\\right)$.\n",
    "\n",
    "• get_maximal_number_of_common_supersequences, complexity $\\leq O\\left(nt^{2}\\right)$.\n",
    "\n",
    "• concatenations, complexity $\\leq\\left(n\\right)$.\n",
    "\n",
    "is summary we get a complexity of $O\\left(n^{2}t^{3}\\right)$.\n"
   ]
  },
  {
   "cell_type": "code",
   "execution_count": 20,
   "metadata": {},
   "outputs": [],
   "source": [
    "def reconstruct_x_from_supersequences_tree(n, U, verbose=False):\n",
    "    t = U.height-n\n",
    "    N = get_maximal_number_of_common_supersequences(n,t)+1\n",
    "    reconstruction = np.array([], dtype=int)\n",
    "    while t >= 1:\n",
    "        if verbose:\n",
    "            print(f'n: {n}, t: {t}, U: ({U.size}, {U.height}), N: {N}')\n",
    "        x_1, m_x_1 = get_first_x(U, t)\n",
    "        reconstruction = np.append(reconstruction, x_1)\n",
    "        if n == 1: \n",
    "            return reconstruction\n",
    "        j = get_supersequence_resonstruction_threshold(n, t, m_x_1)\n",
    "        if verbose:\n",
    "            print(j, reconstruction)\n",
    "\n",
    "        U = get_u_a_i(U, x_1, j+1)\n",
    "        n = n-1\n",
    "        t = t-j  \n",
    "        N = get_maximal_number_of_common_supersequences(n,t)+1\n",
    "        U.decrease_size_to(N)\n",
    "\n",
    "    return np.concatenate((reconstruction, U.get_unique_path()))"
   ]
  },
  {
   "cell_type": "markdown",
   "metadata": {},
   "source": [
    "Using the algorithm for q=2:"
   ]
  },
  {
   "cell_type": "markdown",
   "metadata": {},
   "source": [
    "Use get_insertion_ball to construct the $t$ insertion ball of $x$, we will use $N_q^+(n,t)+1$ sequences from it to reconstruct $x$."
   ]
  },
  {
   "cell_type": "code",
   "execution_count": 21,
   "metadata": {},
   "outputs": [],
   "source": [
    "def get_insertion_ball_tree(x, t, N=-1):\n",
    "    result = SequenceTreeNode()\n",
    "    n = x.shape[0]\n",
    "    for indices in itertools.combinations_with_replacement(range(n+1), t):\n",
    "        for letters in itertools.product(range(q), repeat=t):\n",
    "            seq = np.insert(x, indices, letters)\n",
    "            result.insert_sequence(seq)\n",
    "\n",
    "            if result.size == N:\n",
    "                return result\n",
    "\n",
    "    return result"
   ]
  },
  {
   "cell_type": "code",
   "execution_count": 22,
   "metadata": {},
   "outputs": [],
   "source": [
    "n = 100\n",
    "t = 3\n",
    "q = 2\n",
    "\n",
    "x=np.random.randint(0,q,(n),dtype=np.ubyte)\n",
    "N = get_maximal_number_of_common_supersequences(n,t)+1\n",
    "I_x = get_insertion_ball_tree(x, t, N)\n",
    "if I_x.size < N:\n",
    "    raise Exception(\"Ball is too small, change parameters\")"
   ]
  },
  {
   "cell_type": "code",
   "execution_count": 23,
   "metadata": {},
   "outputs": [],
   "source": [
    "supersequences = get_insertion_ball_tree(x, t, N)"
   ]
  },
  {
   "cell_type": "code",
   "execution_count": 24,
   "metadata": {},
   "outputs": [
    {
     "name": "stdout",
     "output_type": "stream",
     "text": [
      "n = 100, t = 3, q = 2, N = 10715\n",
      "Reconstructed [1 0 0 1 1 0 1 0 0 1 1 0 0 1 1 1 0 0 1 1 0 1 1 0 0 1 0 1 0 1 1 1 1 1 1 1 0\n",
      " 0 0 0 1 0 0 1 0 1 1 0 0 0 0 1 1 0 0 1 0 1 0 1 0 0 0 0 1 1 0 1 0 1 1 0 1 0\n",
      " 1 1 1 0 1 1 0 1 1 1 1 0 0 1 1 1 0 0 1 1 1 0 0 0 0 0]\n",
      "From [1 0 0 1 1 0 1 0 0 1 1 0 0 1 1 1 0 0 1 1 0 1 1 0 0 1 0 1 0 1 1 1 1 1 1 1 0\n",
      " 0 0 0 1 0 0 1 0 1 1 0 0 0 0 1 1 0 0 1 0 1 0 1 0 0 0 0 1 1 0 1 0 1 1 0 1 0\n",
      " 1 1 1 0 1 1 0 1 1 1 1 0 0 1 1 1 0 0 1 1 1 0 0 0 0 0]\n",
      "True\n",
      "58.6 ms ± 0 ns per loop (mean ± std. dev. of 1 run, 1 loop each)\n"
     ]
    }
   ],
   "source": [
    "%%timeit -r1 -n1\n",
    "\n",
    "print(f'n = {n}, t = {t}, q = {q}, N = {N}')\n",
    "reconstructed_x = reconstruct_x_from_supersequences_tree(n, supersequences)\n",
    "print(f'Reconstructed {reconstructed_x}')\n",
    "print(f'From {x}')\n",
    "print(np.array_equal(x, reconstructed_x))"
   ]
  }
 ],
 "metadata": {
  "interpreter": {
   "hash": "078053bbab75fbf7eb4b9f649af4f5558dc3b37fe5108a29c23a862315260ae3"
  },
  "kernelspec": {
   "display_name": "Python 3.10.0 ('CnA4M')",
   "language": "python",
   "name": "python3"
  },
  "language_info": {
   "codemirror_mode": {
    "name": "ipython",
    "version": 3
   },
   "file_extension": ".py",
   "mimetype": "text/x-python",
   "name": "python",
   "nbconvert_exporter": "python",
   "pygments_lexer": "ipython3",
   "version": "3.10.0"
  },
  "orig_nbformat": 4
 },
 "nbformat": 4,
 "nbformat_minor": 2
}
