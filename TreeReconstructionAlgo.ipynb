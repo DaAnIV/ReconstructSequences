{
 "cells": [
  {
   "cell_type": "code",
   "execution_count": 413,
   "metadata": {},
   "outputs": [],
   "source": [
    "import numpy as np\n",
    "import math\n",
    "import itertools\n",
    "from functools import cache"
   ]
  },
  {
   "cell_type": "code",
   "execution_count": 414,
   "metadata": {},
   "outputs": [],
   "source": [
    "class SequenceTreeNode:\n",
    "    def __init__(self):\n",
    "        self.children = np.array([None, None])\n",
    "        self.char = -1\n",
    "        self.height = 0\n",
    "        self.size = 0\n",
    "        self.contains_0_vector = False\n",
    "        self.contains_1_vector = False\n",
    "\n",
    "    def has_sequence(self, x):\n",
    "        node = self\n",
    "        for i,c in enumerate(x):\n",
    "            if node.children[c] is None:\n",
    "                return False\n",
    "            node = node.children[c]\n",
    "        return True\n",
    "\n",
    "    def insert_sequence(self, x):\n",
    "        if self.has_sequence(x):\n",
    "            return\n",
    "\n",
    "        self.__insert_sequence_internal(x)\n",
    "\n",
    "    def __insert_sequence_internal(self, x):\n",
    "        self.size += 1\n",
    "        if x.size == 0:\n",
    "            return\n",
    "\n",
    "        self.height = x.size\n",
    "\n",
    "        if np.all(x==0):\n",
    "            self.contains_0_vector = True   \n",
    "        elif np.all(x==1):\n",
    "            self.contains_1_vector = True \n",
    "\n",
    "        letter = x[0]\n",
    "        if self.children[letter] is None:\n",
    "            self.children[letter] = SequenceTreeNode()\n",
    "\n",
    "        self.children[letter].char = letter\n",
    "        self.children[letter].__insert_sequence_internal(x[1:])\n",
    "\n",
    "    def print_tree(self):\n",
    "        self.__print_tree(0)\n",
    "\n",
    "    def __print_tree(self, depth):\n",
    "        print(f'({depth}) - char {self.char} has {self.size} sequences.\\n\\t\\\n",
    "            contains the 0 vector: {self.contains_0_vector}\\n\\t\\\n",
    "            contains the 1 vector: {self.contains_1_vector}')\n",
    "        for child in self.children:\n",
    "            if child is not None:\n",
    "               child.__print_tree(depth+1)\n",
    "\n",
    "    def print_all_sequences(self):\n",
    "        self.__print_all_sequences(np.array([], dtype=np.ubyte))\n",
    "\n",
    "    \n",
    "    def __print_all_sequences(self, path):\n",
    "        if np.all(self.children == None):\n",
    "            print(path)\n",
    "        for child in self.children:\n",
    "            if child is None:\n",
    "                continue\n",
    "            child.__print_all_sequences(np.append(path, child.char))\n",
    "\n",
    "    def decrease_size_by(self, k):\n",
    "        if k == 0:\n",
    "            return\n",
    "\n",
    "        self.size -= k\n",
    "\n",
    "        if self.children[0] is not None and self.children[0].size <= k:\n",
    "            self.children[1].decrease_size_by(k - self.children[0].size)\n",
    "            self.children[0] = None\n",
    "            return\n",
    "        elif self.children[1] is not None and self.children[1].size <= k:\n",
    "            self.children[0].decrease_size_by(k - self.children[1].size)\n",
    "            self.children[1] = None\n",
    "            return\n",
    "\n",
    "        if self.children[0] is not None:\n",
    "            self.children[0].decrease_size_by(k)\n",
    "        else: \n",
    "            self.children[1].decrease_size_by(k)\n",
    "        \n",
    "\n",
    "    def decrease_size_to(self, N):\n",
    "        self.decrease_size_by(self.size - N)\n"
   ]
  },
  {
   "cell_type": "code",
   "execution_count": null,
   "metadata": {},
   "outputs": [],
   "source": []
  },
  {
   "cell_type": "code",
   "execution_count": 415,
   "metadata": {},
   "outputs": [],
   "source": [
    "@cache\n",
    "def get_maximal_deletion_ball_size(n, t):\n",
    "    if n < t or t < 0:\n",
    "        return 0\n",
    "\n",
    "    size = 0\n",
    "    for i in range(t+1):\n",
    "        size += math.comb(n-t, i)\n",
    "    return size\n",
    "\n",
    "@cache\n",
    "def get_maximal_number_of_common_subsequences(n, t):\n",
    "    if n <= t or t <= 0:\n",
    "        return 0\n",
    "    return get_maximal_deletion_ball_size(n,t) - get_maximal_deletion_ball_size(n-1,t) + get_maximal_deletion_ball_size(n-2,t-1)"
   ]
  },
  {
   "cell_type": "code",
   "execution_count": 416,
   "metadata": {},
   "outputs": [],
   "source": [
    "def get_ordering(U):\n",
    "    k = np.zeros_like(U.children)\n",
    "    for i, child in enumerate(U.children):\n",
    "        if child is None:\n",
    "            k[i] = 0\n",
    "        else:\n",
    "            k[i] = child.size\n",
    "    t = np.argsort(-k, kind='stable') # -k so it will be in descending order\n",
    "    c = k[t]\n",
    "    return t, c"
   ]
  },
  {
   "cell_type": "code",
   "execution_count": 417,
   "metadata": {},
   "outputs": [],
   "source": [
    "def get_deletion_ball_tree(x, t, N=-1):\n",
    "    result = SequenceTreeNode()\n",
    "    for c in itertools.combinations(x, x.size-t):\n",
    "        result.insert_sequence(np.array(c))\n",
    "        if result.size == N:\n",
    "            break\n",
    "\n",
    "    return result"
   ]
  },
  {
   "cell_type": "code",
   "execution_count": 418,
   "metadata": {},
   "outputs": [
    {
     "name": "stdout",
     "output_type": "stream",
     "text": [
      "x = [1 0 1 0 1 1 0 1 0 1]\n",
      "\n",
      "[0 0 1 1 0 1 0 1]\n",
      "[0 1 0 1 0 1 0 1]\n",
      "[0 1 0 1 1 0 0 1]\n",
      "[0 1 0 1 1 0 1 0]\n",
      "[0 1 0 1 1 0 1 1]\n",
      "[0 1 0 1 1 1 0 1]\n",
      "[0 1 1 1 0 1 0 1]\n",
      "[1 0 0 1 0 1 0 1]\n",
      "[1 0 0 1 1 0 0 1]\n",
      "[1 0 0 1 1 0 1 0]\n",
      "[1 0 0 1 1 0 1 1]\n",
      "[1 0 0 1 1 1 0 1]\n",
      "[1 0 1 0 0 1 0 1]\n",
      "[1 0 1 0 1 0 0 1]\n",
      "[1 0 1 0 1 0 1 0]\n",
      "[1 0 1 0 1 0 1 1]\n",
      "[1 0 1 0 1 1 0 0]\n",
      "[1 0 1 0 1 1 0 1]\n",
      "[1 0 1 0 1 1 1 0]\n",
      "[1 0 1 0 1 1 1 1]\n",
      "[1 0 1 1 0 1 0 1]\n",
      "[1 0 1 1 1 0 0 1]\n",
      "[1 0 1 1 1 0 1 0]\n",
      "[1 0 1 1 1 0 1 1]\n",
      "[1 0 1 1 1 1 0 1]\n",
      "[1 1 0 1 0 1 0 1]\n",
      "[1 1 0 1 1 0 0 1]\n",
      "[1 1 0 1 1 0 1 0]\n",
      "[1 1 0 1 1 0 1 1]\n",
      "[1 1 0 1 1 1 0 1]\n",
      "[1 1 1 1 0 1 0 1]\n"
     ]
    }
   ],
   "source": [
    "n = 10\n",
    "t = 2\n",
    "q = 2\n",
    "x=np.random.randint(0,q,(n),dtype=np.ubyte)\n",
    "D_x = get_deletion_ball_tree(x, t)\n",
    "print(f'x = {x}')\n",
    "print()\n",
    "D_x.print_all_sequences()"
   ]
  },
  {
   "cell_type": "code",
   "execution_count": 419,
   "metadata": {},
   "outputs": [],
   "source": [
    "def get_u_a_i(U, a, i):\n",
    "    root = SequenceTreeNode()\n",
    "    node = U\n",
    "    for j in range(i-1):\n",
    "        node = node.children[1-a]        \n",
    "        if node is None:\n",
    "            return root\n",
    "    \n",
    "    node = node.children[a]\n",
    "    if node is None:\n",
    "        return root\n",
    "\n",
    "    root.size = node.size\n",
    "    root.contains_0_vector = node.contains_0_vector\n",
    "    root.contains_1_vector = node.contains_1_vector\n",
    "\n",
    "    for i in range(root.children.size):\n",
    "        root.children[i] = node.children[i]\n",
    "    \n",
    "    return root"
   ]
  },
  {
   "cell_type": "code",
   "execution_count": 420,
   "metadata": {},
   "outputs": [
    {
     "name": "stdout",
     "output_type": "stream",
     "text": [
      "6\n",
      "[0 0 0 0 0 1 0 0 1]\n",
      "[0 1 0 0 0 0 0 0 1]\n",
      "[0 1 0 0 0 0 1 0 0]\n",
      "[0 1 0 0 0 0 1 0 1]\n",
      "[0 1 0 0 0 1 0 0 1]\n",
      "[1 0 0 0 0 1 0 0 1]\n",
      "\n",
      "3\n",
      "[0 1 0 0 0 0 0 0 1]\n",
      "[0 1 0 0 0 0 1 0 0]\n",
      "[0 1 0 0 0 0 1 0 1]\n",
      "\n"
     ]
    }
   ],
   "source": [
    "n = 10\n",
    "t = 1\n",
    "x=np.random.randint(0,q,(n),dtype=np.ubyte)\n",
    "D_x = get_deletion_ball_tree(x, t)\n",
    "print(D_x.size)\n",
    "D_x.print_all_sequences()\n",
    "print()\n",
    "D_x.decrease_size_by(3)\n",
    "print(D_x.size)\n",
    "D_x.print_all_sequences()\n",
    "print()"
   ]
  },
  {
   "cell_type": "code",
   "execution_count": 421,
   "metadata": {},
   "outputs": [],
   "source": [
    "def get_subsequence_reconstruction_threshold(n, t, order_comp):\n",
    "    for i, w_i in enumerate(order_comp):\n",
    "        tau_i = get_maximal_number_of_common_subsequences(n-i-1,t-i)\n",
    "        if w_i > tau_i:\n",
    "            return i"
   ]
  },
  {
   "cell_type": "code",
   "execution_count": 422,
   "metadata": {},
   "outputs": [],
   "source": [
    "def reconstruct_x_from_subsequences(n, U, verbose=False):\n",
    "    t = n-U.height\n",
    "    if verbose:\n",
    "        print(n, t, U.size)\n",
    "    reconstruction = np.array([], dtype=int)\n",
    "    while t >= 1:\n",
    "        order_perm, order_comp = get_ordering(U)\n",
    "        j = get_subsequence_reconstruction_threshold(n, t, order_comp)\n",
    "        reconstruction = np.concatenate((reconstruction, order_perm[:j+1]))\n",
    "        if verbose:\n",
    "            print(j, reconstruction)\n",
    "\n",
    "        n = n-j-1\n",
    "        t = t-j    \n",
    "        N = get_maximal_number_of_common_subsequences(n,t)+1\n",
    "        subsequences = get_u_a_i(U, order_perm[j], 1)\n",
    "        subsequences.decrease_size_to(N)\n",
    "        if verbose:\n",
    "            print(N, U.size)\n",
    "        \n",
    "    return np.concatenate((reconstruction, subsequences.T[0]))"
   ]
  },
  {
   "cell_type": "code",
   "execution_count": 423,
   "metadata": {},
   "outputs": [
    {
     "name": "stdout",
     "output_type": "stream",
     "text": [
      "17\n",
      "17\n"
     ]
    }
   ],
   "source": [
    "n = 10\n",
    "t = 2\n",
    "q = 2\n",
    "\n",
    "x=np.random.randint(0,q,(n),dtype=np.ubyte)\n",
    "N = get_maximal_number_of_common_subsequences(n,t)+1\n",
    "print(N)\n",
    "D_x = get_deletion_ball_tree(x, t, N)\n",
    "\n",
    "while D_x.size < N:\n",
    "    x=np.random.randint(0,q,(n),dtype=np.ubyte)\n",
    "    D_x = get_deletion_ball_tree(x, t, N)\n",
    "\n",
    "print(D_x.size)"
   ]
  },
  {
   "cell_type": "code",
   "execution_count": 424,
   "metadata": {},
   "outputs": [
    {
     "name": "stdout",
     "output_type": "stream",
     "text": [
      "[1 0 0 1 1 0 1 1 1 0]\n",
      "10 17\n",
      "10 2 17\n",
      "1 [1 0]\n",
      "3 17\n",
      "0 [1 0 1]\n",
      "3 17\n",
      "0 [1 0 1 1]\n"
     ]
    },
    {
     "ename": "AttributeError",
     "evalue": "'NoneType' object has no attribute 'decrease_size_by'",
     "output_type": "error",
     "traceback": [
      "\u001b[0;31m---------------------------------------------------------------------------\u001b[0m",
      "\u001b[0;31mAttributeError\u001b[0m                            Traceback (most recent call last)",
      "\u001b[0;32m/tmp/ipykernel_1330/2744919689.py\u001b[0m in \u001b[0;36m<module>\u001b[0;34m\u001b[0m\n\u001b[1;32m      4\u001b[0m \u001b[0mprint\u001b[0m\u001b[0;34m(\u001b[0m\u001b[0mx\u001b[0m\u001b[0;34m)\u001b[0m\u001b[0;34m\u001b[0m\u001b[0;34m\u001b[0m\u001b[0m\n\u001b[1;32m      5\u001b[0m \u001b[0mprint\u001b[0m\u001b[0;34m(\u001b[0m\u001b[0mn\u001b[0m\u001b[0;34m,\u001b[0m \u001b[0mD_x\u001b[0m\u001b[0;34m.\u001b[0m\u001b[0msize\u001b[0m\u001b[0;34m)\u001b[0m\u001b[0;34m\u001b[0m\u001b[0;34m\u001b[0m\u001b[0m\n\u001b[0;32m----> 6\u001b[0;31m \u001b[0mreconstructed_x\u001b[0m \u001b[0;34m=\u001b[0m \u001b[0mreconstruct_x_from_subsequences\u001b[0m\u001b[0;34m(\u001b[0m\u001b[0mn\u001b[0m\u001b[0;34m,\u001b[0m \u001b[0mD_x\u001b[0m\u001b[0;34m,\u001b[0m \u001b[0;32mTrue\u001b[0m\u001b[0;34m)\u001b[0m\u001b[0;34m\u001b[0m\u001b[0;34m\u001b[0m\u001b[0m\n\u001b[0m\u001b[1;32m      7\u001b[0m \u001b[0mprint\u001b[0m\u001b[0;34m(\u001b[0m\u001b[0;34mf'Reconstructed {reconstructed_x}'\u001b[0m\u001b[0;34m)\u001b[0m\u001b[0;34m\u001b[0m\u001b[0;34m\u001b[0m\u001b[0m\n\u001b[1;32m      8\u001b[0m \u001b[0mprint\u001b[0m\u001b[0;34m(\u001b[0m\u001b[0;34mf'From {x}'\u001b[0m\u001b[0;34m)\u001b[0m\u001b[0;34m\u001b[0m\u001b[0;34m\u001b[0m\u001b[0m\n",
      "\u001b[0;32m/tmp/ipykernel_1330/3160861944.py\u001b[0m in \u001b[0;36mreconstruct_x_from_subsequences\u001b[0;34m(n, U, verbose)\u001b[0m\n\u001b[1;32m     15\u001b[0m         \u001b[0mN\u001b[0m \u001b[0;34m=\u001b[0m \u001b[0mget_maximal_number_of_common_subsequences\u001b[0m\u001b[0;34m(\u001b[0m\u001b[0mn\u001b[0m\u001b[0;34m,\u001b[0m\u001b[0mt\u001b[0m\u001b[0;34m)\u001b[0m\u001b[0;34m+\u001b[0m\u001b[0;36m1\u001b[0m\u001b[0;34m\u001b[0m\u001b[0;34m\u001b[0m\u001b[0m\n\u001b[1;32m     16\u001b[0m         \u001b[0msubsequences\u001b[0m \u001b[0;34m=\u001b[0m \u001b[0mget_u_a_i\u001b[0m\u001b[0;34m(\u001b[0m\u001b[0mU\u001b[0m\u001b[0;34m,\u001b[0m \u001b[0morder_perm\u001b[0m\u001b[0;34m[\u001b[0m\u001b[0mj\u001b[0m\u001b[0;34m]\u001b[0m\u001b[0;34m,\u001b[0m \u001b[0;36m1\u001b[0m\u001b[0;34m)\u001b[0m\u001b[0;34m\u001b[0m\u001b[0;34m\u001b[0m\u001b[0m\n\u001b[0;32m---> 17\u001b[0;31m         \u001b[0msubsequences\u001b[0m\u001b[0;34m.\u001b[0m\u001b[0mdecrease_size_to\u001b[0m\u001b[0;34m(\u001b[0m\u001b[0mN\u001b[0m\u001b[0;34m)\u001b[0m\u001b[0;34m\u001b[0m\u001b[0;34m\u001b[0m\u001b[0m\n\u001b[0m\u001b[1;32m     18\u001b[0m         \u001b[0;32mif\u001b[0m \u001b[0mverbose\u001b[0m\u001b[0;34m:\u001b[0m\u001b[0;34m\u001b[0m\u001b[0;34m\u001b[0m\u001b[0m\n\u001b[1;32m     19\u001b[0m             \u001b[0mprint\u001b[0m\u001b[0;34m(\u001b[0m\u001b[0mN\u001b[0m\u001b[0;34m,\u001b[0m \u001b[0mU\u001b[0m\u001b[0;34m.\u001b[0m\u001b[0msize\u001b[0m\u001b[0;34m)\u001b[0m\u001b[0;34m\u001b[0m\u001b[0;34m\u001b[0m\u001b[0m\n",
      "\u001b[0;32m/tmp/ipykernel_1330/316504819.py\u001b[0m in \u001b[0;36mdecrease_size_to\u001b[0;34m(self, N)\u001b[0m\n\u001b[1;32m     86\u001b[0m \u001b[0;34m\u001b[0m\u001b[0m\n\u001b[1;32m     87\u001b[0m     \u001b[0;32mdef\u001b[0m \u001b[0mdecrease_size_to\u001b[0m\u001b[0;34m(\u001b[0m\u001b[0mself\u001b[0m\u001b[0;34m,\u001b[0m \u001b[0mN\u001b[0m\u001b[0;34m)\u001b[0m\u001b[0;34m:\u001b[0m\u001b[0;34m\u001b[0m\u001b[0;34m\u001b[0m\u001b[0m\n\u001b[0;32m---> 88\u001b[0;31m         \u001b[0mself\u001b[0m\u001b[0;34m.\u001b[0m\u001b[0mdecrease_size_by\u001b[0m\u001b[0;34m(\u001b[0m\u001b[0mself\u001b[0m\u001b[0;34m.\u001b[0m\u001b[0msize\u001b[0m \u001b[0;34m-\u001b[0m \u001b[0mN\u001b[0m\u001b[0;34m)\u001b[0m\u001b[0;34m\u001b[0m\u001b[0;34m\u001b[0m\u001b[0m\n\u001b[0m",
      "\u001b[0;32m/tmp/ipykernel_1330/316504819.py\u001b[0m in \u001b[0;36mdecrease_size_by\u001b[0;34m(self, k)\u001b[0m\n\u001b[1;32m     71\u001b[0m \u001b[0;34m\u001b[0m\u001b[0m\n\u001b[1;32m     72\u001b[0m         \u001b[0;32mif\u001b[0m \u001b[0mself\u001b[0m\u001b[0;34m.\u001b[0m\u001b[0mchildren\u001b[0m\u001b[0;34m[\u001b[0m\u001b[0;36m0\u001b[0m\u001b[0;34m]\u001b[0m \u001b[0;32mis\u001b[0m \u001b[0;32mnot\u001b[0m \u001b[0;32mNone\u001b[0m \u001b[0;32mand\u001b[0m \u001b[0mself\u001b[0m\u001b[0;34m.\u001b[0m\u001b[0mchildren\u001b[0m\u001b[0;34m[\u001b[0m\u001b[0;36m0\u001b[0m\u001b[0;34m]\u001b[0m\u001b[0;34m.\u001b[0m\u001b[0msize\u001b[0m \u001b[0;34m<=\u001b[0m \u001b[0mk\u001b[0m\u001b[0;34m:\u001b[0m\u001b[0;34m\u001b[0m\u001b[0;34m\u001b[0m\u001b[0m\n\u001b[0;32m---> 73\u001b[0;31m             \u001b[0mself\u001b[0m\u001b[0;34m.\u001b[0m\u001b[0mchildren\u001b[0m\u001b[0;34m[\u001b[0m\u001b[0;36m1\u001b[0m\u001b[0;34m]\u001b[0m\u001b[0;34m.\u001b[0m\u001b[0mdecrease_size_by\u001b[0m\u001b[0;34m(\u001b[0m\u001b[0mk\u001b[0m \u001b[0;34m-\u001b[0m \u001b[0mself\u001b[0m\u001b[0;34m.\u001b[0m\u001b[0mchildren\u001b[0m\u001b[0;34m[\u001b[0m\u001b[0;36m0\u001b[0m\u001b[0;34m]\u001b[0m\u001b[0;34m.\u001b[0m\u001b[0msize\u001b[0m\u001b[0;34m)\u001b[0m\u001b[0;34m\u001b[0m\u001b[0;34m\u001b[0m\u001b[0m\n\u001b[0m\u001b[1;32m     74\u001b[0m             \u001b[0mself\u001b[0m\u001b[0;34m.\u001b[0m\u001b[0mchildren\u001b[0m\u001b[0;34m[\u001b[0m\u001b[0;36m0\u001b[0m\u001b[0;34m]\u001b[0m \u001b[0;34m=\u001b[0m \u001b[0;32mNone\u001b[0m\u001b[0;34m\u001b[0m\u001b[0;34m\u001b[0m\u001b[0m\n\u001b[1;32m     75\u001b[0m             \u001b[0;32mreturn\u001b[0m\u001b[0;34m\u001b[0m\u001b[0;34m\u001b[0m\u001b[0m\n",
      "\u001b[0;32m/tmp/ipykernel_1330/316504819.py\u001b[0m in \u001b[0;36mdecrease_size_by\u001b[0;34m(self, k)\u001b[0m\n\u001b[1;32m     75\u001b[0m             \u001b[0;32mreturn\u001b[0m\u001b[0;34m\u001b[0m\u001b[0;34m\u001b[0m\u001b[0m\n\u001b[1;32m     76\u001b[0m         \u001b[0;32melif\u001b[0m \u001b[0mself\u001b[0m\u001b[0;34m.\u001b[0m\u001b[0mchildren\u001b[0m\u001b[0;34m[\u001b[0m\u001b[0;36m1\u001b[0m\u001b[0;34m]\u001b[0m \u001b[0;32mis\u001b[0m \u001b[0;32mnot\u001b[0m \u001b[0;32mNone\u001b[0m \u001b[0;32mand\u001b[0m \u001b[0mself\u001b[0m\u001b[0;34m.\u001b[0m\u001b[0mchildren\u001b[0m\u001b[0;34m[\u001b[0m\u001b[0;36m1\u001b[0m\u001b[0;34m]\u001b[0m\u001b[0;34m.\u001b[0m\u001b[0msize\u001b[0m \u001b[0;34m<=\u001b[0m \u001b[0mk\u001b[0m\u001b[0;34m:\u001b[0m\u001b[0;34m\u001b[0m\u001b[0;34m\u001b[0m\u001b[0m\n\u001b[0;32m---> 77\u001b[0;31m             \u001b[0mself\u001b[0m\u001b[0;34m.\u001b[0m\u001b[0mchildren\u001b[0m\u001b[0;34m[\u001b[0m\u001b[0;36m0\u001b[0m\u001b[0;34m]\u001b[0m\u001b[0;34m.\u001b[0m\u001b[0mdecrease_size_by\u001b[0m\u001b[0;34m(\u001b[0m\u001b[0mk\u001b[0m \u001b[0;34m-\u001b[0m \u001b[0mself\u001b[0m\u001b[0;34m.\u001b[0m\u001b[0mchildren\u001b[0m\u001b[0;34m[\u001b[0m\u001b[0;36m1\u001b[0m\u001b[0;34m]\u001b[0m\u001b[0;34m.\u001b[0m\u001b[0msize\u001b[0m\u001b[0;34m)\u001b[0m\u001b[0;34m\u001b[0m\u001b[0;34m\u001b[0m\u001b[0m\n\u001b[0m\u001b[1;32m     78\u001b[0m             \u001b[0mself\u001b[0m\u001b[0;34m.\u001b[0m\u001b[0mchildren\u001b[0m\u001b[0;34m[\u001b[0m\u001b[0;36m1\u001b[0m\u001b[0;34m]\u001b[0m \u001b[0;34m=\u001b[0m \u001b[0;32mNone\u001b[0m\u001b[0;34m\u001b[0m\u001b[0;34m\u001b[0m\u001b[0m\n\u001b[1;32m     79\u001b[0m             \u001b[0;32mreturn\u001b[0m\u001b[0;34m\u001b[0m\u001b[0;34m\u001b[0m\u001b[0m\n",
      "\u001b[0;31mAttributeError\u001b[0m: 'NoneType' object has no attribute 'decrease_size_by'"
     ]
    }
   ],
   "source": [
    "# print(subsequences.shape)\n",
    "# print(get_next_subsequnces(subsequences,0).shape)\n",
    "# print(get_next_subsequnces(subsequences,0))\n",
    "print(x)\n",
    "print(n, D_x.size)\n",
    "reconstructed_x = reconstruct_x_from_subsequences(n, D_x, True)\n",
    "print(f'Reconstructed {reconstructed_x}')\n",
    "print(f'From {x}')\n",
    "print(np.array_equal(x, reconstructed_x))"
   ]
  }
 ],
 "metadata": {
  "interpreter": {
   "hash": "078053bbab75fbf7eb4b9f649af4f5558dc3b37fe5108a29c23a862315260ae3"
  },
  "kernelspec": {
   "display_name": "Python 3.10.0 ('CnA4M')",
   "language": "python",
   "name": "python3"
  },
  "language_info": {
   "codemirror_mode": {
    "name": "ipython",
    "version": 3
   },
   "file_extension": ".py",
   "mimetype": "text/x-python",
   "name": "python",
   "nbconvert_exporter": "python",
   "pygments_lexer": "ipython3",
   "version": "3.10.0"
  },
  "orig_nbformat": 4
 },
 "nbformat": 4,
 "nbformat_minor": 2
}
