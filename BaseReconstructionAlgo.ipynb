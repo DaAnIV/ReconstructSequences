{
 "cells": [
  {
   "cell_type": "code",
   "execution_count": 1,
   "metadata": {},
   "outputs": [],
   "source": [
    "import numpy as np\n",
    "import math\n",
    "import itertools\n",
    "from functools import cache"
   ]
  },
  {
   "cell_type": "code",
   "execution_count": 2,
   "metadata": {},
   "outputs": [],
   "source": [
    "n = 10\n",
    "q = 2\n",
    "x=np.random.randint(0,q,(n),dtype=np.ubyte)"
   ]
  },
  {
   "cell_type": "markdown",
   "metadata": {},
   "source": [
    "$D_t(x)$ denotes the $t$ deletion ball of a sequence $x$ of size $n, assuming $t<n$.\\\n",
    "$D_t(x)$ is all of the subsequences of size $t$ of $x$.\n"
   ]
  },
  {
   "cell_type": "code",
   "execution_count": 3,
   "metadata": {},
   "outputs": [],
   "source": [
    "def get_deletion_ball(x, t, N=-1):\n",
    "    if N == -1:\n",
    "        return np.array(list(set(itertools.combinations(x, x.size-t))))\n",
    "    else:\n",
    "        result = set()\n",
    "        for c in itertools.combinations(x, x.size-t):\n",
    "            result.add(c)\n",
    "            if len(result) == N:\n",
    "                break\n",
    "\n",
    "        return np.array(list(result))\n",
    "\n"
   ]
  },
  {
   "cell_type": "markdown",
   "metadata": {},
   "source": [
    "r=1\n",
    "D_x_1 = get_deletion_ball(x,r)\n",
    "print(f'For {x} size {n} vector of alphabet {q} we get a radius {r} deletion ball of size {D_x_1.shape[0]}')"
   ]
  },
  {
   "cell_type": "code",
   "execution_count": 5,
   "metadata": {},
   "outputs": [],
   "source": [
    "def get_composition_vector(x, q):\n",
    "    k = np.zeros(q,dtype=int)\n",
    "    for i in x:\n",
    "        k[i] += 1\n",
    "    return k\n",
    "\n",
    "def get_ordering(x, q=2):\n",
    "    k = get_composition_vector(x, q)\n",
    "    t = np.argsort(-k, kind='stable') # -k so it will be in descending order\n",
    "    c = k[t]\n",
    "    return t, c\n",
    "\n",
    "def number_of_runs(x):\n",
    "    runs = 1\n",
    "    prev_x = x[0]\n",
    "    for i in x[1:]:\n",
    "        if i != prev_x:\n",
    "            runs += 1\n",
    "        prev_x = i\n",
    "\n",
    "    return runs\n",
    "\n",
    "@cache\n",
    "def get_maximal_deletion_ball_size(n, t, q=2):\n",
    "    if n < t or t < 0:\n",
    "        return 0\n",
    "    if q == 1:\n",
    "        return 1\n",
    "\n",
    "    size = 0\n",
    "    for i in range(t+1):\n",
    "        size += math.comb(n-t, i) * get_maximal_deletion_ball_size(t, t-i, q-1)\n",
    "    return size\n",
    "\n",
    "@cache\n",
    "def get_maximal_insertion_ball_size(n, t, q=2):\n",
    "    if n < 0 or t < 0:\n",
    "        return 0\n",
    "    size = 0\n",
    "    for i in range(t+1):\n",
    "        size += math.comb(n+t, i)*int(math.pow((q-1),i))\n",
    "    return size\n",
    "\n",
    "@cache\n",
    "def get_maximal_number_of_common_subsequences(n, t, q=2):\n",
    "    if n <= t or t <= 0:\n",
    "        return 0\n",
    "    return get_maximal_deletion_ball_size(n,t,q) - get_maximal_deletion_ball_size(n-1,t,q) + get_maximal_deletion_ball_size(n-2,t-1,q)"
   ]
  },
  {
   "cell_type": "code",
   "execution_count": 1,
   "metadata": {},
   "outputs": [
    {
     "ename": "NameError",
     "evalue": "name 'get_composition_vector' is not defined",
     "output_type": "error",
     "traceback": [
      "\u001b[0;31m---------------------------------------------------------------------------\u001b[0m",
      "\u001b[0;31mNameError\u001b[0m                                 Traceback (most recent call last)",
      "\u001b[0;32m/tmp/ipykernel_306/3559959572.py\u001b[0m in \u001b[0;36m<module>\u001b[0;34m\u001b[0m\n\u001b[0;32m----> 1\u001b[0;31m \u001b[0mk_x\u001b[0m \u001b[0;34m=\u001b[0m \u001b[0mget_composition_vector\u001b[0m\u001b[0;34m(\u001b[0m\u001b[0mx\u001b[0m\u001b[0;34m)\u001b[0m\u001b[0;34m\u001b[0m\u001b[0;34m\u001b[0m\u001b[0m\n\u001b[0m\u001b[1;32m      2\u001b[0m \u001b[0mt_x\u001b[0m\u001b[0;34m,\u001b[0m \u001b[0ml_x\u001b[0m \u001b[0;34m=\u001b[0m \u001b[0mget_ordering\u001b[0m\u001b[0;34m(\u001b[0m\u001b[0mx\u001b[0m\u001b[0;34m)\u001b[0m\u001b[0;34m\u001b[0m\u001b[0;34m\u001b[0m\u001b[0m\n\u001b[1;32m      3\u001b[0m \u001b[0mprint\u001b[0m\u001b[0;34m(\u001b[0m\u001b[0mx\u001b[0m\u001b[0;34m)\u001b[0m\u001b[0;34m\u001b[0m\u001b[0;34m\u001b[0m\u001b[0m\n\u001b[1;32m      4\u001b[0m \u001b[0mprint\u001b[0m\u001b[0;34m(\u001b[0m\u001b[0mk_x\u001b[0m\u001b[0;34m)\u001b[0m\u001b[0;34m\u001b[0m\u001b[0;34m\u001b[0m\u001b[0m\n\u001b[1;32m      5\u001b[0m \u001b[0mprint\u001b[0m\u001b[0;34m(\u001b[0m\u001b[0mt_x\u001b[0m\u001b[0;34m)\u001b[0m\u001b[0;34m\u001b[0m\u001b[0;34m\u001b[0m\u001b[0m\n",
      "\u001b[0;31mNameError\u001b[0m: name 'get_composition_vector' is not defined"
     ]
    }
   ],
   "source": [
    "k_x = get_composition_vector(x, q)\n",
    "t_x, l_x = get_ordering(x, q)\n",
    "print(x)\n",
    "print(k_x)\n",
    "print(t_x)\n",
    "print(l_x)\n",
    "print(x, number_of_runs(x))\n",
    "print(get_maximal_deletion_ball_size(n,1))\n",
    "print(get_maximal_insertion_ball_size(n,1))\n",
    "print(get_maximal_number_of_common_subsequences(n,1))\n",
    "print(get_maximal_number_of_common_subsequences(n,2))\n",
    "print(get_maximal_number_of_common_subsequences(7,3, 3))"
   ]
  },
  {
   "cell_type": "markdown",
   "metadata": {},
   "source": []
  },
  {
   "cell_type": "code",
   "execution_count": 7,
   "metadata": {},
   "outputs": [],
   "source": [
    "def get_subsequence_reconstruction_threshold(n, t, order_comp, q=2):\n",
    "    for i in range(q):\n",
    "        w_i = order_comp[i]\n",
    "        tau_i = get_maximal_number_of_common_subsequences(n-i-1,t-i,q)\n",
    "        if w_i > tau_i:\n",
    "            return i"
   ]
  },
  {
   "cell_type": "code",
   "execution_count": 8,
   "metadata": {},
   "outputs": [],
   "source": [
    "def get_u_a_i(U, a, i):\n",
    "    if i == 1:\n",
    "        return U[:,U[0,:] == a][1:]\n",
    "    results = []\n",
    "    for s in U.T:\n",
    "        if len(np.where(s == a)[0]) == 0: continue\n",
    "        if np.where(s == a)[0][0] == i-1:\n",
    "            results.append(s)\n",
    "\n",
    "    if len(results) == 0:\n",
    "        return None\n",
    "    \n",
    "    return np.stack(results).T[i:]\n",
    "    "
   ]
  },
  {
   "cell_type": "markdown",
   "metadata": {},
   "source": [
    "The following algorithm reconstructs a sequence $X \\in F_q^n$ given $N_q^-(n,t)+1$ different subsequences of $X$ of size $t$\\\n",
    "The algorithm parameters:\n",
    "* **n**             - The original sequence size to reconstruct.\n",
    "* **subsequences**  - known subsequences of $X$, this is a ndarray of shape $(t, k)$ where $k$ is at least $N_q^-(n,t)+1$.\n",
    "* **q**             - Size of the alphabet, the alphabets is assumed to be $[0,1,\\dots, q-1]$.\n",
    "* **verbose**       - control verbosity.\n",
    "\n",
    "\n"
   ]
  },
  {
   "cell_type": "code",
   "execution_count": 9,
   "metadata": {},
   "outputs": [],
   "source": [
    "def reconstruct_x_from_subsequences(n, subsequences, q=2, verbose=False):\n",
    "    t = n-subsequences.shape[0]\n",
    "    reconstruction = np.array([], dtype=int)\n",
    "    if verbose:\n",
    "        print(subsequences.shape)\n",
    "    while t >= 1:\n",
    "        order_perm, order_comp = get_ordering(subsequences[0], q)\n",
    "        j = get_subsequence_reconstruction_threshold(n, t, order_comp, q)\n",
    "        reconstruction = np.concatenate((reconstruction, order_perm[:j+1]))\n",
    "        if verbose:\n",
    "            print(j, reconstruction)\n",
    "\n",
    "        n = n-j-1\n",
    "        t = t-j    \n",
    "        N = get_maximal_number_of_common_subsequences(n,t,q)+1\n",
    "        subsequences = get_u_a_i(subsequences, order_perm[j], 1)\n",
    "        subsequences = subsequences[:,:N]\n",
    "        if verbose:\n",
    "            print(subsequences.shape)\n",
    "        \n",
    "    return np.concatenate((reconstruction, subsequences.T[0]))"
   ]
  },
  {
   "cell_type": "markdown",
   "metadata": {},
   "source": [
    "Let us try and calculate the complexity for q=2"
   ]
  },
  {
   "cell_type": "code",
   "execution_count": 10,
   "metadata": {},
   "outputs": [
    {
     "name": "stdout",
     "output_type": "stream",
     "text": [
      "38\n"
     ]
    }
   ],
   "source": [
    "n = 20\n",
    "t = 2\n",
    "q = 20\n",
    "\n",
    "\n",
    "x=np.random.randint(0,q,(n),dtype=np.ubyte)\n",
    "N = get_maximal_number_of_common_subsequences(n,t,q)+1\n",
    "print(N)\n",
    "D_x = get_deletion_ball(x, t, N)\n",
    "\n",
    "while D_x.shape[0] < N:\n",
    "    print('1')\n",
    "    x=np.random.randint(0,q,(n),dtype=np.ubyte)\n",
    "    D_x = get_deletion_ball(x, t, N)"
   ]
  },
  {
   "cell_type": "code",
   "execution_count": 11,
   "metadata": {},
   "outputs": [
    {
     "name": "stdout",
     "output_type": "stream",
     "text": [
      "Reconstructed [10  8  0 10  1  3  5  5 11 14  3  4  7 14  9 17  1  9 17  9]\n",
      "From [10  8  0 10  1  3  5  5 11 14  3  4  7 14  9 17  1  9 17  9]\n",
      "True\n"
     ]
    }
   ],
   "source": [
    "subsequences = D_x.T\n",
    "# print(subsequences.shape)\n",
    "# print(get_next_subsequnces(subsequences,0).shape)\n",
    "# print(get_next_subsequnces(subsequences,0))\n",
    "reconstructed_x = reconstruct_x_from_subsequences(n, subsequences, q)\n",
    "print(f'Reconstructed {reconstructed_x}')\n",
    "print(f'From {x}')\n",
    "print(np.array_equal(x, reconstructed_x))\n",
    "# print(subsequences[0])"
   ]
  },
  {
   "cell_type": "code",
   "execution_count": 12,
   "metadata": {},
   "outputs": [],
   "source": [
    "def get_insertion_ball(x, t, q=2, N=-1):\n",
    "    result = set()\n",
    "    n = x.shape[0]\n",
    "    for indices in itertools.combinations_with_replacement(range(n+1), t):\n",
    "        for letters in itertools.product(range(q), repeat=t):\n",
    "            result.add(tuple(np.insert(x, indices, letters)))\n",
    "\n",
    "            if len(result) == N:\n",
    "                return np.array(list(result))\n",
    "\n",
    "    return np.array(list(result))\n",
    "\n"
   ]
  },
  {
   "cell_type": "code",
   "execution_count": 13,
   "metadata": {},
   "outputs": [],
   "source": [
    "def get_m_vector(U, t, a):\n",
    "    m_vec = np.zeros((t+1,), dtype=np.uint)\n",
    "    for i in range(t+1):\n",
    "        u_a_i = get_u_a_i(U, a, i+1)\n",
    "        if u_a_i is None:\n",
    "            m_vec[i] = 0\n",
    "        else:\n",
    "            m_vec[i] = u_a_i.shape[1]\n",
    "\n",
    "    return m_vec"
   ]
  },
  {
   "cell_type": "code",
   "execution_count": 14,
   "metadata": {},
   "outputs": [],
   "source": [
    "@cache\n",
    "def get_maximal_number_of_common_supersequences(n, t):\n",
    "    if t <= 0:\n",
    "        return 0\n",
    "    result = 0\n",
    "    for i in range(1, t+1):\n",
    "        result += get_maximal_insertion_ball_size(n,t-i)\n",
    "    return 2*result"
   ]
  },
  {
   "cell_type": "code",
   "execution_count": 15,
   "metadata": {},
   "outputs": [],
   "source": [
    "def get_first_x(supersequences, t):\n",
    "    N = supersequences.shape[1]\n",
    "    candidates = []\n",
    "    for i in range(2):\n",
    "        m_v = get_m_vector(supersequences, t, i)\n",
    "        if m_v.sum() == N:\n",
    "            candidates.append((i, m_v))\n",
    "\n",
    "    if len(candidates) == 1:\n",
    "        return candidates[0]\n",
    "\n",
    "    U_0_1 = 0\n",
    "    U_1_0 = 0\n",
    "\n",
    "    for s in supersequences.T:\n",
    "        indices_0 = np.where(s == 0)[0]\n",
    "        indices_1 = np.where(s == 1)[0]\n",
    "        if len(indices_0) == 0 or len(indices_1) == 0: continue\n",
    "        if indices_0[0] < indices_1[0]:\n",
    "            U_0_1 += 1\n",
    "        else:\n",
    "            U_1_0 += 1\n",
    "\n",
    "        # Since len(candidates)>1 then both 0 and 1 are candidates \n",
    "        # and because we added them by order candidates[0] represents 0\n",
    "    if U_0_1 > U_1_0:\n",
    "        return candidates[0] \n",
    "    \n",
    "    return candidates[1]\n",
    "    \n",
    "\n"
   ]
  },
  {
   "cell_type": "code",
   "execution_count": 16,
   "metadata": {},
   "outputs": [],
   "source": [
    "def get_supersequence_resonstruction_threshold(n, t, m_v):\n",
    "    for i in range(t+1):\n",
    "        w_i = m_v[i]\n",
    "        tau_i = get_maximal_number_of_common_supersequences(n-1,t-i)\n",
    "        if w_i > tau_i:\n",
    "            return i\n"
   ]
  },
  {
   "cell_type": "code",
   "execution_count": 17,
   "metadata": {},
   "outputs": [],
   "source": [
    "def reconstruct_x_from_supersequences(n, supersequences, verbose=False):\n",
    "    t = supersequences.shape[0]-n\n",
    "    reconstruction = np.array([], dtype=int)\n",
    "    if verbose:\n",
    "        print(supersequences.shape)\n",
    "    while t >= 1:\n",
    "        x_1, m_x_1 = get_first_x(supersequences, t)\n",
    "        reconstruction = np.append(reconstruction, x_1)\n",
    "        if n == 1: \n",
    "            return reconstruction\n",
    "        j = get_supersequence_resonstruction_threshold(n, t, m_x_1)\n",
    "        if verbose:\n",
    "            print(j, reconstruction)\n",
    "\n",
    "        supersequences = get_u_a_i(supersequences, x_1, j+1)\n",
    "        n = n-1\n",
    "        t = t-j  \n",
    "        N = get_maximal_number_of_common_supersequences(n,t)+1\n",
    "        supersequences = supersequences[:,:N]\n",
    "        if verbose:\n",
    "            print(supersequences.shape)\n",
    "\n",
    "    return np.concatenate((reconstruction, supersequences.T[0]))"
   ]
  },
  {
   "cell_type": "code",
   "execution_count": 22,
   "metadata": {},
   "outputs": [
    {
     "name": "stdout",
     "output_type": "stream",
     "text": [
      "[0 0 1 1 0 0 1 1 1 0 0 1 1 0 1 0 1 0 0 0 0 0 0 1 0 0 1 1 0 0 0 0 0 0 1 1 0\n",
      " 1 1 0 1 0 0 1 1 0 1 1 1 0 0 0 0 0 0 0 0 1 1 1 1 1 0 0 0 1 0 0 1 1 1 0 0 1\n",
      " 1 1 0 1 1 0 0 0 0 1 1 0 1 0 0 1 1 1 0 0 0 0 0 0 1 0]\n",
      "Reconstructed [0 0 1 1 0 0 1 1 1 0 0 1 1 0 1 0 1 0 0 0 0 0 0 1 0 0 1 1 0 0 0 0 0 0 1 1 0\n",
      " 1 1 0 1 0 0 1 1 0 1 1 1 0 0 0 0 0 0 0 0 1 1 1 1 1 0 0 0 1 0 0 1 1 1 0 0 1\n",
      " 1 1 0 1 1 0 0 0 0 1 1 0 1 0 0 1 1 1 0 0 0 0 0 0 1 0], 100\n",
      "From [0 0 1 1 0 0 1 1 1 0 0 1 1 0 1 0 1 0 0 0 0 0 0 1 0 0 1 1 0 0 0 0 0 0 1 1 0\n",
      " 1 1 0 1 0 0 1 1 0 1 1 1 0 0 0 0 0 0 0 0 1 1 1 1 1 0 0 0 1 0 0 1 1 1 0 0 1\n",
      " 1 1 0 1 1 0 0 0 0 1 1 0 1 0 0 1 1 1 0 0 0 0 0 0 1 0], 100\n",
      "True\n"
     ]
    }
   ],
   "source": [
    "n = 100\n",
    "t = 4\n",
    "q = 2\n",
    "x=np.random.randint(0,q,(n),dtype=np.ubyte)\n",
    "N = get_maximal_number_of_common_supersequences(n, t)+1\n",
    "I_x = get_insertion_ball(x, t, q, N)\n",
    "# print(N)\n",
    "# print(I_x.shape)\n",
    "print(x)"
   ]
  },
  {
   "cell_type": "code",
   "execution_count": 24,
   "metadata": {},
   "outputs": [
    {
     "name": "stdout",
     "output_type": "stream",
     "text": [
      "Reconstructed [0 0 1 1 0 0 1 1 1 0 0 1 1 0 1 0 1 0 0 0 0 0 0 1 0 0 1 1 0 0 0 0 0 0 1 1 0\n",
      " 1 1 0 1 0 0 1 1 0 1 1 1 0 0 0 0 0 0 0 0 1 1 1 1 1 0 0 0 1 0 0 1 1 1 0 0 1\n",
      " 1 1 0 1 1 0 0 0 0 1 1 0 1 0 0 1 1 1 0 0 0 0 0 0 1 0]\n",
      "From [0 0 1 1 0 0 1 1 1 0 0 1 1 0 1 0 1 0 0 0 0 0 0 1 0 0 1 1 0 0 0 0 0 0 1 1 0\n",
      " 1 1 0 1 0 0 1 1 0 1 1 1 0 0 0 0 0 0 0 0 1 1 1 1 1 0 0 0 1 0 0 1 1 1 0 0 1\n",
      " 1 1 0 1 1 0 0 0 0 1 1 0 1 0 0 1 1 1 0 0 0 0 0 0 1 0]\n",
      "True\n"
     ]
    }
   ],
   "source": [
    "reconstructed_x = reconstruct_x_from_supersequences(n, I_x.T)\n",
    "print(f'Reconstructed {reconstructed_x}')\n",
    "print(f'From {x}')\n",
    "print(np.array_equal(x, reconstructed_x))"
   ]
  }
 ],
 "metadata": {
  "interpreter": {
   "hash": "3a0222c9ea3c897013f9b32b07e250faafb77857a484b979f2184ec2035b2a26"
  },
  "kernelspec": {
   "display_name": "Python 3.9.5 64-bit ('base': conda)",
   "language": "python",
   "name": "python3"
  },
  "language_info": {
   "codemirror_mode": {
    "name": "ipython",
    "version": 3
   },
   "file_extension": ".py",
   "mimetype": "text/x-python",
   "name": "python",
   "nbconvert_exporter": "python",
   "pygments_lexer": "ipython3",
   "version": "3.10.0"
  },
  "orig_nbformat": 4
 },
 "nbformat": 4,
 "nbformat_minor": 2
}
