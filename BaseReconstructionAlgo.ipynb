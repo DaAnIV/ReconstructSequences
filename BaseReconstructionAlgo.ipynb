{
 "cells": [
  {
   "cell_type": "markdown",
   "metadata": {},
   "source": [
    "# Base Algorithm as shown in the paper\n",
    "\n",
    "we will show the complexity calculation of each of the relevant functions and sum up the complexity for the algorithm as a whole."
   ]
  },
  {
   "cell_type": "code",
   "execution_count": 1,
   "metadata": {},
   "outputs": [],
   "source": [
    "import numpy as np\n",
    "import math\n",
    "import itertools\n",
    "from functools import cache"
   ]
  },
  {
   "cell_type": "code",
   "execution_count": 2,
   "metadata": {},
   "outputs": [],
   "source": [
    "n = 10\n",
    "q = 2\n",
    "x=np.random.randint(0,q,(n),dtype=np.ubyte)"
   ]
  },
  {
   "cell_type": "markdown",
   "metadata": {},
   "source": [
    "**get_u_a_i:**\n",
    "\n",
    "input - $U$ sequence metrix of size $N\\times$ $n$, a char in $F_{q}$, $i$ index $\\leq n$.\n",
    "\n",
    "output - $\\overline{U^{a,i}}$.\n",
    "\n",
    "for each sequnce we check if the first occurence of $a$ is at index $i$ and if so we add the subsequence to a list without the first $i$ letters $O\\left(Ni\\right)$."
   ]
  },
  {
   "cell_type": "code",
   "execution_count": 3,
   "metadata": {},
   "outputs": [],
   "source": [
    "def get_u_a_i(U, a, i):\n",
    "    if i == 1:\n",
    "        return U[:,U[0,:] == a][1:]\n",
    "    results = []\n",
    "    for s in U.T:\n",
    "        if len(np.where(s == a)[0]) == 0: continue\n",
    "        if np.where(s == a)[0][0] == i-1:\n",
    "            results.append(s)\n",
    "\n",
    "    if len(results) == 0:\n",
    "        return None\n",
    "    \n",
    "    return np.stack(results).T[i:]\n",
    "    "
   ]
  },
  {
   "cell_type": "markdown",
   "metadata": {},
   "source": [
    "# Reconstruction from subsequences algorithm:\n",
    "\n",
    "Reconstruct a sequence $x$ of size $n$ from $N_q^-(n,t)+1$ of $x's$ subsequences of size $n-t$."
   ]
  },
  {
   "cell_type": "markdown",
   "metadata": {},
   "source": [
    "**get_composition_vector:**\n",
    "\n",
    "returns histogram of a the input sequence $x$ $O\\left(\\left|x\\right|\\right)$."
   ]
  },
  {
   "cell_type": "code",
   "execution_count": 4,
   "metadata": {},
   "outputs": [],
   "source": [
    "def get_composition_vector(x, q):\n",
    "    k = np.zeros(q,dtype=int)\n",
    "    for i in x:\n",
    "        k[i] += 1\n",
    "    return k"
   ]
  },
  {
   "cell_type": "markdown",
   "metadata": {},
   "source": [
    "**get_ordering:**\n",
    "\n",
    "input - $N$ sized sequence, $q$ alphabet size - constant.\n",
    "\n",
    "output - $t$ ordered permutation, $c$ ordered composition.\n",
    "\n",
    "uses get_composition_vector $O\\left(N\\right)$, argsort on the histogram to return the ordering permutation $O\\left(q\\log\\left(q\\right)\\right)$, and returns the ordered composition $O\\left(q\\right)$.\n",
    "\n",
    "$q=2$ is a constant so get ordering has the complexity of $O\\left(N\\right)$."
   ]
  },
  {
   "cell_type": "code",
   "execution_count": 5,
   "metadata": {},
   "outputs": [],
   "source": [
    "def get_ordering(x, q=2):\n",
    "    k = get_composition_vector(x, q)\n",
    "    t = np.argsort(-k, kind='stable') # -k so it will be in descending order\n",
    "    c = k[t]\n",
    "    return t, c"
   ]
  },
  {
   "cell_type": "code",
   "execution_count": 6,
   "metadata": {},
   "outputs": [
    {
     "name": "stdout",
     "output_type": "stream",
     "text": [
      "x = [0 1 1 0 0 0 0 0 1 1]\n",
      "x's order permutation = [0 1]\n",
      "x's composition vector = [6 4]\n",
      "x's ordered composition = [6 4]\n"
     ]
    }
   ],
   "source": [
    "k_x = get_composition_vector(x, q)\n",
    "t_x, l_x = get_ordering(x, q)\n",
    "print(f\"x = {x}\")\n",
    "print(f\"x's order permutation = {t_x}\")\n",
    "print(f\"x's composition vector = {k_x}\")\n",
    "print(f\"x's ordered composition = {l_x}\")"
   ]
  },
  {
   "cell_type": "markdown",
   "metadata": {},
   "source": [
    "**get_maximal_deletion_ball_size:**\n",
    "\n",
    "input - $n$ original sequence size, $t$ deletion ball radius, $q$ alphabet size - constant.\n",
    "\n",
    "output - maximal deletion ball size.\n",
    "\n",
    "assuming $q=2$ the recursive call in the function will only have $O\\left(1\\right)$ complexity.\n",
    "\n",
    "loops for $t+1$ iterations with counter i and in each computes ${n-t \\choose i}$ since we know $t<<n$ this has the complexity $O\\left(n\\right)$.\n",
    "\n",
    "in total the function has the complexity of $O\\left(nt\\right)$."
   ]
  },
  {
   "cell_type": "code",
   "execution_count": 7,
   "metadata": {},
   "outputs": [],
   "source": [
    "@cache\n",
    "def get_maximal_deletion_ball_size(n, t, q=2):\n",
    "    if n < t or t < 0:\n",
    "        return 0\n",
    "    if q == 1:\n",
    "        return 1\n",
    "\n",
    "    size = 0\n",
    "    for i in range(t+1):\n",
    "        size += math.comb(n-t, i) * get_maximal_deletion_ball_size(t, t-i, q-1)\n",
    "    return size"
   ]
  },
  {
   "cell_type": "markdown",
   "metadata": {},
   "source": [
    "**get_maximal_number_of_common_subsequences:**\n",
    "\n",
    "input - $n$ original sequence size, $t$ deletion ball radius, $q$ alphabet size - constant.\n",
    "\n",
    "output - maximal number of common subsequences.\n",
    "\n",
    "calls get_maximal_deletion_ball_size $3$ times with $n\\pm const$, $t\\pm const$ which has a complexity of $O\\left(3nt\\right)=O\\left(nt\\right)$."
   ]
  },
  {
   "cell_type": "code",
   "execution_count": 8,
   "metadata": {},
   "outputs": [],
   "source": [
    "@cache\n",
    "def get_maximal_number_of_common_subsequences(n, t, q=2):\n",
    "    if n <= t or t <= 0:\n",
    "        return 0\n",
    "    return get_maximal_deletion_ball_size(n,t,q) - get_maximal_deletion_ball_size(n-1,t,q) + get_maximal_deletion_ball_size(n-2,t-1,q)"
   ]
  },
  {
   "cell_type": "markdown",
   "metadata": {},
   "source": [
    "**get_subsequence_reconstruction_threshold:**\n",
    "\n",
    "input - $n$ original sequence size, $t$ insertion ball radius, $order\\_comp$ ordered composition (vec of size $q$), $q$ alphabet size - constant.\n",
    "\n",
    "output - threshold on ordered composition using $\\tau_{i}=N_{q}^{-}\\left(n-i-1,\\,t-i\\right)$.\n",
    "\n",
    "loops $q$ times and calls get_maximal_number_of_common_subsequences on each iteration $O\\left(qnt\\right)=O\\left(nt\\right)$."
   ]
  },
  {
   "cell_type": "code",
   "execution_count": 9,
   "metadata": {},
   "outputs": [],
   "source": [
    "def get_subsequence_reconstruction_threshold(n, t, order_comp, q=2):\n",
    "    for i in range(q):\n",
    "        w_i = order_comp[i]\n",
    "        tau_i = get_maximal_number_of_common_subsequences(n-i-1,t-i,q)\n",
    "        if w_i > tau_i:\n",
    "            return i"
   ]
  },
  {
   "cell_type": "markdown",
   "metadata": {},
   "source": [
    "### reconstruct_x_from_subsequences:\n",
    "\n",
    "The following algorithm reconstructs a sequence $X \\in F_q^n$ given $N_q^-(n,t)+1$ different subsequences of $x$ of size $n-t$\\\n",
    "The algorithm parameters:\n",
    "* **n**             - The original sequence size to reconstruct.\n",
    "* **subsequences**  - known subsequences of $X$, this is a ndarray of shape $(n-t, k)$ where $k$ is at least $N_q^-(n,t)+1$.\n",
    "* **q**             - Size of the alphabet, the alphabets is assumed to be $[0,1,\\dots, q-1]$.\n",
    "* **verbose**       - control verbosity.\n",
    "\n",
    "\n",
    "**Complexity:**\n",
    "\n",
    "The algorithm loops at most $n$ times, in each iteration:\n",
    "\n",
    "• call get_ordering, complexity $\\leq O\\left(N\\right)$.\n",
    "\n",
    "• call get_subsequence_reconstruction_threshold, complexity $\\leq O\\left(nt\\right)$.\n",
    "\n",
    "• concatenate, complexity $\\leq O\\left(n\\right)$.\n",
    "\n",
    "• call get_maximal_number_of_common_subsequences, complexity $\\leq O\\left(nt\\right)$.\n",
    "\n",
    "• call get_u_a_i (with i==1), complexity $\\leq O\\left(N\\right)$.\n",
    "\n",
    "getting us in total a complexity of $O\\left(Nn+n^2t\\right)$."
   ]
  },
  {
   "cell_type": "code",
   "execution_count": 10,
   "metadata": {},
   "outputs": [],
   "source": [
    "def reconstruct_x_from_subsequences(n, U, q=2, verbose=0):\n",
    "    t = n-U.shape[0]\n",
    "    reconstruction = np.array([], dtype=int)\n",
    "    if verbose > 0:\n",
    "        print(f\"n={n}, t={t}, U.shape={U.shape}\")\n",
    "    iteration_count = 0\n",
    "\n",
    "    while t >= 1:\n",
    "        iteration_count += 1\n",
    "        order_perm, order_comp = get_ordering(U[0], q)\n",
    "        j = get_subsequence_reconstruction_threshold(n, t, order_comp, q)\n",
    "        reconstruction = np.concatenate((reconstruction, order_perm[:j+1]))\n",
    "        if verbose > 1:\n",
    "            print(f\"threshold={j}, reconstructed={reconstruction}\")\n",
    "\n",
    "        n = n-j-1\n",
    "        t = t-j    \n",
    "        N = get_maximal_number_of_common_subsequences(n,t,q)+1\n",
    "        U = get_u_a_i(U, order_perm[j], 1)\n",
    "        U = U[:,:N]\n",
    "        if verbose > 1:\n",
    "            print(f\"n={n}, t={t}, U.shape={U.shape}\")\n",
    "        \n",
    "    if verbose > 0:\n",
    "        print(f'Took {iteration_count} iterations')\n",
    "\n",
    "    return np.concatenate((reconstruction, U.T[0]))"
   ]
  },
  {
   "cell_type": "markdown",
   "metadata": {},
   "source": [
    "Using the algorithm for q=2:"
   ]
  },
  {
   "cell_type": "markdown",
   "metadata": {},
   "source": [
    "Use get_deletion_ball to construct the $t$ deletion ball of $x$, we will use $N_q^-(n,t)+1$ sequences from it to reconstruct $x$."
   ]
  },
  {
   "cell_type": "code",
   "execution_count": 11,
   "metadata": {},
   "outputs": [],
   "source": [
    "def get_deletion_ball(x, t, N=-1):\n",
    "    if N == -1:\n",
    "        return np.array(list(set(itertools.combinations(x, x.size-t))))\n",
    "    else:\n",
    "        result = set()\n",
    "        for c in itertools.combinations(x, x.size-t):\n",
    "            result.add(c)\n",
    "            if len(result) == N:\n",
    "                break\n",
    "\n",
    "        return np.array(list(result))"
   ]
  },
  {
   "cell_type": "code",
   "execution_count": 12,
   "metadata": {},
   "outputs": [],
   "source": [
    "n = 100\n",
    "t = 3\n",
    "q = 2\n",
    "\n",
    "x=np.random.randint(0,q,(n),dtype=np.ubyte)\n",
    "N = get_maximal_number_of_common_subsequences(n,t,q)+1\n",
    "D_x = get_deletion_ball(x, t, N)\n",
    "\n",
    "while D_x.shape[0] < N:\n",
    "    x=np.random.randint(0,q,(n),dtype=np.ubyte)\n",
    "    D_x = get_deletion_ball(x, t, N)"
   ]
  },
  {
   "cell_type": "code",
   "execution_count": 13,
   "metadata": {},
   "outputs": [],
   "source": [
    "subsequences = get_deletion_ball(x, t, N).T"
   ]
  },
  {
   "cell_type": "code",
   "execution_count": 14,
   "metadata": {},
   "outputs": [
    {
     "name": "stdout",
     "output_type": "stream",
     "text": [
      "n=100, t=3, U.shape=(97, 9315)\n",
      "Took 48 iterations\n",
      "Reconstructed [1 0 0 0 1 0 1 1 0 0 1 1 1 1 1 0 0 1 1 1 1 0 0 0 0 1 0 0 1 0 0 1 1 1 1 0 1\n",
      " 1 1 0 0 0 1 0 1 1 0 1 0 0 1 0 1 0 0 0 1 0 0 1 1 1 0 1 0 1 0 0 1 1 0 0 0 0\n",
      " 0 0 0 0 1 1 0 0 1 1 1 0 1 1 1 0 0 1 0 1 0 1 1 0 0 1]\n",
      "From [1 0 0 0 1 0 1 1 0 0 1 1 1 1 1 0 0 1 1 1 1 0 0 0 0 1 0 0 1 0 0 1 1 1 1 0 1\n",
      " 1 1 0 0 0 1 0 1 1 0 1 0 0 1 0 1 0 0 0 1 0 0 1 1 1 0 1 0 1 0 0 1 1 0 0 0 0\n",
      " 0 0 0 0 1 1 0 0 1 1 1 0 1 1 1 0 0 1 0 1 0 1 1 0 0 1]\n",
      "True\n"
     ]
    }
   ],
   "source": [
    "reconstructed_x = reconstruct_x_from_subsequences(n, subsequences, q, verbose=1)\n",
    "print(f'Reconstructed {reconstructed_x}')\n",
    "print(f'From {x}')\n",
    "print(np.array_equal(x, reconstructed_x))"
   ]
  },
  {
   "cell_type": "code",
   "execution_count": 15,
   "metadata": {},
   "outputs": [
    {
     "name": "stdout",
     "output_type": "stream",
     "text": [
      "81.1 ms ± 2.45 ms per loop (mean ± std. dev. of 7 runs, 10 loops each)\n"
     ]
    }
   ],
   "source": [
    "%timeit reconstruct_x_from_subsequences(n, subsequences, q)"
   ]
  },
  {
   "cell_type": "markdown",
   "metadata": {},
   "source": [
    "# Reconstruction from supersequences algorithm:\n",
    "\n",
    "Reconstruct a sequence $x$ of size $n$ from $N_q^+(n,t)+1$ of $x's$ supersequences of size $n+t$."
   ]
  },
  {
   "cell_type": "markdown",
   "metadata": {},
   "source": [
    "**get_maximal_insertion_ball_size:**\n",
    "\n",
    "input - $n$ original sequence size, $t$ insertion ball radius, $q$ alphabet size - constant.\n",
    "\n",
    "output - maximal insertion ball size.\n",
    "\n",
    "assuming $q=2$ the recursive call in the function will only take $O\\left(1\\right)$ complexity.\n",
    "\n",
    "loops for $t+1$ iterations with counter $i$ and in each computes ${n+t \\choose i}$ since we know $t<<n$ this has the complexity $O\\left(n\\right)$.\n",
    "\n",
    "in total the function has the complexity of $O\\left(nt\\right)$."
   ]
  },
  {
   "cell_type": "code",
   "execution_count": 16,
   "metadata": {},
   "outputs": [],
   "source": [
    "@cache\n",
    "def get_maximal_insertion_ball_size(n, t, q=2):\n",
    "    if n < 0 or t < 0:\n",
    "        return 0\n",
    "    size = 0\n",
    "    for i in range(t+1):\n",
    "        size += math.comb(n+t, i)*int(math.pow((q-1),i))\n",
    "    return size"
   ]
  },
  {
   "cell_type": "markdown",
   "metadata": {},
   "source": [
    "**get_maximal_number_of_common_supersequences:**\n",
    "\n",
    "input - $n$ original sequence size, $t$ insertion ball radius.\n",
    "\n",
    "loop $t$ times, on each loop call get_maximal_insertion_ball_size getting us an overall complexity of $O\\left(nt^{2}\\right)$."
   ]
  },
  {
   "cell_type": "code",
   "execution_count": 17,
   "metadata": {},
   "outputs": [],
   "source": [
    "@cache\n",
    "def get_maximal_number_of_common_supersequences(n, t):\n",
    "    if t <= 0:\n",
    "        return 0\n",
    "    result = 0\n",
    "    for i in range(1, t+1):\n",
    "        result += get_maximal_insertion_ball_size(n,t-i)\n",
    "    return 2*result"
   ]
  },
  {
   "cell_type": "markdown",
   "metadata": {},
   "source": [
    "**get_m_vector:**\n",
    "\n",
    "input - $U$ sequence matrix of size $N\\times n$, $t$ insertion ball radius, $a$ char in $F_{q}$.\n",
    "\n",
    "output - $m\\left(a\\right)$ vector.\n",
    "\n",
    "loop $t+1$ times, with counter $i$, on each loop call get_u_a_i($i+1$) with complexity of $O\\left(Ni\\right)$.\n",
    "\n",
    "getting us a total complexity of $O\\left(Nt^{2}\\right)$."
   ]
  },
  {
   "cell_type": "code",
   "execution_count": 18,
   "metadata": {},
   "outputs": [],
   "source": [
    "def get_m_vector(U, t, a):\n",
    "    m_vec = np.zeros((t+1,), dtype=np.uint)\n",
    "    for i in range(t+1):\n",
    "        u_a_i = get_u_a_i(U, a, i+1)\n",
    "        if u_a_i is None:\n",
    "            m_vec[i] = 0\n",
    "        else:\n",
    "            m_vec[i] = u_a_i.shape[1]\n",
    "\n",
    "    return m_vec"
   ]
  },
  {
   "cell_type": "markdown",
   "metadata": {},
   "source": [
    "**get_first_x:**\n",
    "\n",
    "input - $U$ supersequence metrix of size $N\\times n$, $t$ insertion ball radius.\n",
    "\n",
    "output - $x_{1}$ first letter of $x$, $m\\left(x_{1}\\right)$ the $m$ vector of $x_{1}$ as defined in the paper. \n",
    "\n",
    "calls get_m_vector 2 times $O\\left(Nt^{2}\\right)$, sums each the two $m\\left(a\\right)$ vectors (which are of size $t+1$) $O\\left(t\\right)$, for each sequence in $U$ check if $s\\in U$ belongs to $U_{0,1}$ or $U_{1,0}$ we go over all of them, and in the worst case over the entirety of each vector $O\\left(Nn\\right)$.\n",
    "\n",
    "in summary we get a complexity of $O\\left(Nn+Nt^{2}+t\\right)=O\\left(Nn+Nt^{2}\\right)$."
   ]
  },
  {
   "cell_type": "code",
   "execution_count": 19,
   "metadata": {},
   "outputs": [],
   "source": [
    "def get_first_x(supersequences, t):\n",
    "    N = supersequences.shape[1]\n",
    "    candidates = []\n",
    "    for i in range(2):\n",
    "        m_v = get_m_vector(supersequences, t, i)\n",
    "        if m_v.sum() == N:\n",
    "            candidates.append((i, m_v))\n",
    "\n",
    "    if len(candidates) == 1:\n",
    "        return candidates[0]\n",
    "\n",
    "    U_0_1 = 0\n",
    "    U_1_0 = 0\n",
    "\n",
    "    for s in supersequences.T:\n",
    "        indices_0 = np.where(s == 0)[0]\n",
    "        indices_1 = np.where(s == 1)[0]\n",
    "        if len(indices_0) == 0 or len(indices_1) == 0: continue\n",
    "        if indices_0[0] < indices_1[0]:\n",
    "            U_0_1 += 1\n",
    "        else:\n",
    "            U_1_0 += 1\n",
    "\n",
    "        # Since len(candidates)>1 then both 0 and 1 are candidates \n",
    "        # and because we added them by order candidates[0] represents 0\n",
    "    if U_0_1 > U_1_0:\n",
    "        return candidates[0] \n",
    "    \n",
    "    return candidates[1]"
   ]
  },
  {
   "cell_type": "markdown",
   "metadata": {},
   "source": [
    "**get_supersequence_reconstruction_threshold:**\n",
    "\n",
    "input - $n$ length of sequence, $t$ insertion ball radius, $m\\left(x_{1}\\right)$ $m$ vector of $x_{1}$.\n",
    "\n",
    "output - threshold for $m\\left(x_{1}\\right)$ with $\\tau_{i}=N_{q}^{+}\\left(n-1,t-i\\right)$.\n",
    "\n",
    "loop $t$ times, with counter $i$, calculate $\\tau_{i}$ on each loop $O\\left(ni^{2}\\right)$.\n",
    "\n",
    "getting us a total complexity $O\\left(nt^{3}\\right)$."
   ]
  },
  {
   "cell_type": "code",
   "execution_count": 20,
   "metadata": {},
   "outputs": [],
   "source": [
    "def get_supersequence_resonstruction_threshold(n, t, m_v):\n",
    "    for i in range(t+1):\n",
    "        w_i = m_v[i]\n",
    "        tau_i = get_maximal_number_of_common_supersequences(n-1,t-i)\n",
    "        if w_i > tau_i:\n",
    "            return i"
   ]
  },
  {
   "cell_type": "markdown",
   "metadata": {},
   "source": [
    "### reconstruct_x_from_supersequences:\n",
    "\n",
    "The following algorithm reconstructs a sequence $x \\in F_q^n$ given $N_q^+(n,t)+1$ different subsequences of $x$ of size $n+t$\\\n",
    "The algorithm parameters:\n",
    "* **n**             - The original sequence size to reconstruct.\n",
    "* **subsequences**  - known subsequences of $X$, this is a ndarray of shape $(n+t, k)$ where $k$ is at least $N_q^+(n,t)+1$.\n",
    "* **q**             - Size of the alphabet, the alphabets is assumed to be $[0,1,\\dots, q-1]$.\n",
    "* **verbose**       - control verbosity.\n",
    "\n",
    "**Complexity:**\n",
    "The algorithm loops at most $n$ times:\n",
    "\n",
    "• get_first_x, complexity $\\leq O\\left(Nn+Nt^{2}\\right)$.\n",
    "\n",
    "• get_supersequence_reconstruction_threshold, complexity $\\leq O\\left(nt^{3}\\right)$.\n",
    "\n",
    "• get_u_a_i, complexity $\\leq O\\left(Nt\\right)$.\n",
    "\n",
    "• get_maximal_number_of_common_supersequences, complexity $\\leq O\\left(nt^{2}\\right)$.\n",
    "\n",
    "• concatenations, complexity $\\leq\\left(n\\right)$.\n",
    "\n",
    "is summary we get a complexity of $O\\left(Nn^{2}+Nnt^{2}+n^{2}t^{3}\\right)$.\n"
   ]
  },
  {
   "cell_type": "code",
   "execution_count": 21,
   "metadata": {},
   "outputs": [],
   "source": [
    "def reconstruct_x_from_supersequences(n, U, verbose=0):\n",
    "    t = U.shape[0]-n\n",
    "    reconstruction = np.array([], dtype=int)\n",
    "    if verbose > 0:\n",
    "        print(f\"n={n}, t={t}, U.shape={U.shape}\")\n",
    "    iteration_count = 0\n",
    "\n",
    "    while t >= 1:\n",
    "        iteration_count += 1\n",
    "        x_1, m_x_1 = get_first_x(U, t)\n",
    "        reconstruction = np.append(reconstruction, x_1)\n",
    "        if n == 1:\n",
    "            U = None \n",
    "            break\n",
    "        j = get_supersequence_resonstruction_threshold(n, t, m_x_1)\n",
    "        if verbose > 1:\n",
    "            print(f\"threshold={j}, reconstructed={reconstruction}\")\n",
    "\n",
    "        U = get_u_a_i(U, x_1, j+1)\n",
    "        n = n-1\n",
    "        t = t-j  \n",
    "        N = get_maximal_number_of_common_supersequences(n,t)+1\n",
    "        U = U[:,:N]\n",
    "        if verbose > 1:\n",
    "            print(f\"n={n}, t={t}, U.shape={U.shape}\")\n",
    "        \n",
    "    if verbose > 0:\n",
    "        print(f'Took {iteration_count} iterations')\n",
    "        \n",
    "    if U is None:\n",
    "        return reconstruction\n",
    "    return np.concatenate((reconstruction, U.T[0]))"
   ]
  },
  {
   "cell_type": "markdown",
   "metadata": {},
   "source": [
    "Using the algorithm for q=2:"
   ]
  },
  {
   "cell_type": "markdown",
   "metadata": {},
   "source": [
    "Use get_insertion_ball to construct the $t$ insertion ball of $x$, we will use $N_q^+(n,t)+1$ sequences from it to reconstruct $x$."
   ]
  },
  {
   "cell_type": "code",
   "execution_count": 22,
   "metadata": {},
   "outputs": [],
   "source": [
    "def get_insertion_ball(x, t, q=2, N=-1):\n",
    "    result = set()\n",
    "    n = x.shape[0]\n",
    "    for indices in itertools.combinations_with_replacement(range(n+1), t):\n",
    "        for letters in itertools.product(range(q), repeat=t):\n",
    "            result.add(tuple(np.insert(x, indices, letters)))\n",
    "\n",
    "            if len(result) == N:\n",
    "                return np.array(list(result))\n",
    "\n",
    "    return np.array(list(result))"
   ]
  },
  {
   "cell_type": "code",
   "execution_count": 23,
   "metadata": {},
   "outputs": [],
   "source": [
    "n = 100\n",
    "t = 3\n",
    "q = 2\n",
    "x=np.random.randint(0,q,(n),dtype=np.ubyte)\n",
    "N = get_maximal_number_of_common_supersequences(n, t)+1\n",
    "I_x = get_insertion_ball(x, t, q, N)\n",
    "if I_x.shape[0] < N:\n",
    "    raise Exception(\"Ball is too small, change parameters\")\n"
   ]
  },
  {
   "cell_type": "code",
   "execution_count": 24,
   "metadata": {},
   "outputs": [],
   "source": [
    "supersequences = get_insertion_ball(x, t, q, N).T"
   ]
  },
  {
   "cell_type": "code",
   "execution_count": 25,
   "metadata": {},
   "outputs": [
    {
     "name": "stdout",
     "output_type": "stream",
     "text": [
      "n=100, t=3, U.shape=(103, 10715)\n",
      "Took 30 iterations\n",
      "Reconstructed [1 0 0 0 0 1 1 1 0 0 1 0 0 1 0 0 1 0 0 1 0 1 1 0 1 1 1 0 1 1 0 0 1 1 0 1 1\n",
      " 1 0 0 1 0 1 0 1 0 0 1 0 1 0 0 1 1 1 1 0 0 1 0 1 1 0 1 0 1 1 0 0 0 0 1 1 0\n",
      " 0 0 0 1 0 0 0 0 0 0 1 1 1 1 0 1 1 0 0 0 1 1 0 0 1 1]\n",
      "From [1 0 0 0 0 1 1 1 0 0 1 0 0 1 0 0 1 0 0 1 0 1 1 0 1 1 1 0 1 1 0 0 1 1 0 1 1\n",
      " 1 0 0 1 0 1 0 1 0 0 1 0 1 0 0 1 1 1 1 0 0 1 0 1 1 0 1 0 1 1 0 0 0 0 1 1 0\n",
      " 0 0 0 1 0 0 0 0 0 0 1 1 1 1 0 1 1 0 0 0 1 1 0 0 1 1]\n",
      "True\n"
     ]
    }
   ],
   "source": [
    "reconstructed_x = reconstruct_x_from_supersequences(n, supersequences, verbose=1)\n",
    "print(f'Reconstructed {reconstructed_x}')\n",
    "print(f'From {x}')\n",
    "print(np.array_equal(x, reconstructed_x))"
   ]
  },
  {
   "cell_type": "code",
   "execution_count": 26,
   "metadata": {},
   "outputs": [
    {
     "name": "stdout",
     "output_type": "stream",
     "text": [
      "389 ms ± 11.6 ms per loop (mean ± std. dev. of 7 runs, 1 loop each)\n"
     ]
    }
   ],
   "source": [
    "%timeit reconstruct_x_from_supersequences(n, supersequences)"
   ]
  }
 ],
 "metadata": {
  "interpreter": {
   "hash": "3a0222c9ea3c897013f9b32b07e250faafb77857a484b979f2184ec2035b2a26"
  },
  "kernelspec": {
   "display_name": "Python 3.9.5 64-bit ('base': conda)",
   "language": "python",
   "name": "python3"
  },
  "language_info": {
   "codemirror_mode": {
    "name": "ipython",
    "version": 3
   },
   "file_extension": ".py",
   "mimetype": "text/x-python",
   "name": "python",
   "nbconvert_exporter": "python",
   "pygments_lexer": "ipython3",
   "version": "3.10.0"
  },
  "orig_nbformat": 4
 },
 "nbformat": 4,
 "nbformat_minor": 2
}
