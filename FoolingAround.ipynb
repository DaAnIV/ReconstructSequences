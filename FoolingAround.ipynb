{
 "cells": [
  {
   "cell_type": "code",
   "execution_count": 36,
   "metadata": {},
   "outputs": [],
   "source": [
    "import numpy as np\n",
    "import math\n",
    "import itertools\n",
    "from functools import cache"
   ]
  },
  {
   "cell_type": "code",
   "execution_count": 37,
   "metadata": {},
   "outputs": [],
   "source": [
    "n = 10\n",
    "q = 2\n",
    "x=np.random.randint(0,q,(n),dtype=np.ubyte)"
   ]
  },
  {
   "cell_type": "code",
   "execution_count": 38,
   "metadata": {},
   "outputs": [],
   "source": [
    "def get_deletion_ball(x, t):\n",
    "    return list(set(itertools.combinations(x, x.size-t)))\n"
   ]
  },
  {
   "cell_type": "code",
   "execution_count": 39,
   "metadata": {},
   "outputs": [
    {
     "name": "stdout",
     "output_type": "stream",
     "text": [
      "For [1 1 0 1 0 1 1 1 0 0] size 10 vector of alphabet 2 we get a radius 1 deletion ball of size 6\n"
     ]
    }
   ],
   "source": [
    "r=1\n",
    "D_x_1 = get_deletion_ball(x,r)\n",
    "print(f'For {x} size {n} vector of alphabet {q} we get a radius {r} deletion ball of size {len(D_x_1)}')"
   ]
  },
  {
   "cell_type": "code",
   "execution_count": 40,
   "metadata": {},
   "outputs": [],
   "source": [
    "def get_composition_vector(x):\n",
    "    k = np.zeros(q,dtype=int)\n",
    "    for i in x:\n",
    "        k[i] += 1\n",
    "    return k\n",
    "\n",
    "def get_ordering_permutation(x):\n",
    "    k = get_composition_vector(x)\n",
    "    return np.argsort(-k, kind='stable') # -k so it will be in descending order\n",
    "\n",
    "def get_order_composition(x):\n",
    "    k = get_composition_vector(x)\n",
    "    return k[np.argsort(-k, kind='stable')] # -k so it will be in descending order\n",
    "\n",
    "def number_of_runs(x):\n",
    "    runs = 1\n",
    "    prev_x = x[0]\n",
    "    for i in x[1:]:\n",
    "        if i != prev_x:\n",
    "            runs += 1\n",
    "        prev_x = i\n",
    "\n",
    "    return runs\n",
    "\n",
    "@cache\n",
    "def get_maximal_deletion_ball_size(n, t, q=2):\n",
    "    if n < t or t < 0:\n",
    "        return 0\n",
    "    if q == 1:\n",
    "        return 1\n",
    "\n",
    "    size = 0\n",
    "    for i in range(t+1):\n",
    "        size += math.comb(n-t, i) * get_maximal_deletion_ball_size(t, t-i, q-1)\n",
    "    return size\n",
    "\n",
    "@cache\n",
    "def get_maximal_insertion_ball_size(n, t, q=2):\n",
    "    if n < 0 or t < 0:\n",
    "        return 0\n",
    "    size = 0\n",
    "    for i in range(t+1):\n",
    "        size += math.comb(n+t, i)*int(math.pow((q-1),i))\n",
    "    return size\n",
    "\n",
    "@cache\n",
    "def get_maximal_number_of_common_subsequences(n, t, q=2):\n",
    "    if n <= t or t <= 0:\n",
    "        return 0\n",
    "    return get_maximal_deletion_ball_size(n,t,q) - get_maximal_deletion_ball_size(n-1,t,q) + get_maximal_deletion_ball_size(n-2,t-1,q)"
   ]
  },
  {
   "cell_type": "code",
   "execution_count": 41,
   "metadata": {},
   "outputs": [
    {
     "name": "stdout",
     "output_type": "stream",
     "text": [
      "[4 6]\n",
      "[1 0]\n",
      "[6 4]\n",
      "[1 1 0 1 0 1 1 1 0 0] 6\n",
      "10\n",
      "12\n",
      "2\n",
      "16\n",
      "24\n"
     ]
    }
   ],
   "source": [
    "k_x = get_composition_vector(x)\n",
    "t_x = get_ordering_permutation(x)\n",
    "l_x = get_order_composition(x)\n",
    "print(k_x)\n",
    "print(t_x)\n",
    "print(l_x)\n",
    "print(x, number_of_runs(x))\n",
    "print(get_maximal_deletion_ball_size(n,1))\n",
    "print(get_maximal_insertion_ball_size(n,1))\n",
    "print(get_maximal_number_of_common_subsequences(n,1))\n",
    "print(get_maximal_number_of_common_subsequences(n,2))\n",
    "print(get_maximal_number_of_common_subsequences(7,3, 3))"
   ]
  },
  {
   "cell_type": "code",
   "execution_count": 42,
   "metadata": {},
   "outputs": [],
   "source": [
    "def get_threshold(n, t, order_comp, q=2):\n",
    "    for i in range(q):\n",
    "        N = get_maximal_number_of_common_subsequences(n-i-1,t-i,q)\n",
    "        if N < order_comp[i]:\n",
    "            return i\n",
    "\n",
    "def get_u_a_i(subsequences, a, i=1):\n",
    "    return subsequences[:,subsequences[0,:] == a][1:,:]\n",
    "\n",
    "\n",
    "def reconstruct_x_from_subsequences(n, subsequences, q=2, print_steps=False):\n",
    "    t = n-subsequences.shape[0]\n",
    "    reconstruction = np.array([], dtype=int)\n",
    "    while t >= 1:\n",
    "        order_perm = get_ordering_permutation(subsequences[0])\n",
    "        order_comp = get_order_composition(subsequences[0])\n",
    "        j = get_threshold(n, t, order_comp, q)\n",
    "        reconstruction = np.concatenate((reconstruction, order_perm[:j+1]))\n",
    "        if print_steps:\n",
    "            print(j, reconstruction)\n",
    "\n",
    "        n = n-j-1\n",
    "        t = t-j    \n",
    "        N = get_maximal_number_of_common_subsequences(n,t,q)+1\n",
    "        subsequences = get_u_a_i(subsequences, order_perm[j])\n",
    "        subsequences = subsequences[:,:N]\n",
    "        \n",
    "    return np.concatenate((reconstruction, subsequences.T[0]))\n",
    "            \n",
    "    "
   ]
  },
  {
   "cell_type": "code",
   "execution_count": 43,
   "metadata": {},
   "outputs": [
    {
     "name": "stdout",
     "output_type": "stream",
     "text": [
      "1\n",
      "1\n"
     ]
    }
   ],
   "source": [
    "n = 100\n",
    "t = 4\n",
    "q = 2\n",
    "\n",
    "x=np.random.randint(0,q,(n),dtype=np.ubyte)\n",
    "N = get_maximal_number_of_common_subsequences(n,t,q)+1\n",
    "D_x = get_deletion_ball(x, t)\n",
    "\n",
    "while len(D_x) < N:\n",
    "    print('1')\n",
    "    x=np.random.randint(0,q,(n),dtype=np.ubyte)\n",
    "    D_x = get_deletion_ball(x, t)"
   ]
  },
  {
   "cell_type": "code",
   "execution_count": 44,
   "metadata": {},
   "outputs": [
    {
     "name": "stdout",
     "output_type": "stream",
     "text": [
      "(96, 390244)\n",
      "Reconstructed [1 0 1 1 1 1 1 0 0 1 0 1 0 1 0 0 1 0 0 0 1 1 0 0 1 1 1 0 0 1 1 1 1 1 1 0 1\n",
      " 0 1 0 1 0 0 0 1 0 0 1 1 0 0 1 0 0 1 0 1 0 0 1 0 0 1 0 1 0 1 1 0 0 1 1 1 1\n",
      " 1 0 1 0 1 1 0 1 0 0 1 1 0 0 0 1 0 0 0 0 0 1 0 0 1 1]\n",
      "From [1 0 1 1 1 1 1 0 0 1 0 1 0 1 0 0 1 0 0 0 1 1 0 0 1 1 1 0 0 1 1 1 1 1 1 0 1\n",
      " 0 1 0 1 0 0 0 1 0 0 1 1 0 0 1 0 0 1 0 1 0 0 1 0 0 1 0 1 0 1 1 0 0 1 1 1 1\n",
      " 1 0 1 0 1 1 0 1 0 0 1 1 0 0 0 1 0 0 0 0 0 1 0 0 1 1]\n",
      "True\n"
     ]
    }
   ],
   "source": [
    "subsequences = np.array(D_x).T\n",
    "print(subsequences.shape)\n",
    "# print(get_next_subsequnces(subsequences,0).shape)\n",
    "# print(get_next_subsequnces(subsequences,0))\n",
    "reconstructed_x = reconstruct_x_from_subsequences(n, subsequences, q)\n",
    "print(f'Reconstructed {reconstructed_x}')\n",
    "print(f'From {x}')\n",
    "print(np.array_equal(x, reconstructed_x))"
   ]
  }
 ],
 "metadata": {
  "interpreter": {
   "hash": "3a0222c9ea3c897013f9b32b07e250faafb77857a484b979f2184ec2035b2a26"
  },
  "kernelspec": {
   "display_name": "Python 3.9.5 64-bit ('base': conda)",
   "language": "python",
   "name": "python3"
  },
  "language_info": {
   "codemirror_mode": {
    "name": "ipython",
    "version": 3
   },
   "file_extension": ".py",
   "mimetype": "text/x-python",
   "name": "python",
   "nbconvert_exporter": "python",
   "pygments_lexer": "ipython3",
   "version": "3.10.0"
  },
  "orig_nbformat": 4
 },
 "nbformat": 4,
 "nbformat_minor": 2
}
