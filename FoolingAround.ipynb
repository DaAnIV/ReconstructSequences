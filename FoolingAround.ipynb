{
 "cells": [
  {
   "cell_type": "code",
   "execution_count": 66,
   "metadata": {},
   "outputs": [],
   "source": [
    "import numpy as np\n",
    "import itertools\n",
    "from pprint import pprint"
   ]
  },
  {
   "cell_type": "code",
   "execution_count": 67,
   "metadata": {},
   "outputs": [],
   "source": [
    "n = 10\n",
    "q = 2\n",
    "x=np.random.randint(0,q,(n),dtype=np.ubyte)"
   ]
  },
  {
   "cell_type": "code",
   "execution_count": 68,
   "metadata": {},
   "outputs": [],
   "source": [
    "def get_deletion_ball(x, t):\n",
    "    return set(itertools.combinations(x, x.size-t))\n"
   ]
  },
  {
   "cell_type": "code",
   "execution_count": 69,
   "metadata": {},
   "outputs": [
    {
     "name": "stdout",
     "output_type": "stream",
     "text": [
      "For [1 0 1 1 1 0 0 1 0 0] size 10 vector of alphabet 2 we get a radius 1 deletion ball of size 6 and it is:\n",
      "{(0, 1, 1, 1, 0, 0, 1, 0, 0),\n",
      " (1, 0, 1, 1, 0, 0, 1, 0, 0),\n",
      " (1, 0, 1, 1, 1, 0, 0, 0, 0),\n",
      " (1, 0, 1, 1, 1, 0, 0, 1, 0),\n",
      " (1, 0, 1, 1, 1, 0, 1, 0, 0),\n",
      " (1, 1, 1, 1, 0, 0, 1, 0, 0)}\n"
     ]
    }
   ],
   "source": [
    "r=1\n",
    "D_x_1 = get_deletion_ball(x,r)\n",
    "print(f'For {x} size {n} vector of alphabet {q} we get a radius {r} deletion ball of size {len(D_x_1)} and it is:')\n",
    "pprint(D_x_1)"
   ]
  }
 ],
 "metadata": {
  "interpreter": {
   "hash": "3a0222c9ea3c897013f9b32b07e250faafb77857a484b979f2184ec2035b2a26"
  },
  "kernelspec": {
   "display_name": "Python 3.9.5 64-bit ('base': conda)",
   "language": "python",
   "name": "python3"
  },
  "language_info": {
   "codemirror_mode": {
    "name": "ipython",
    "version": 3
   },
   "file_extension": ".py",
   "mimetype": "text/x-python",
   "name": "python",
   "nbconvert_exporter": "python",
   "pygments_lexer": "ipython3",
   "version": "3.10.0"
  },
  "orig_nbformat": 4
 },
 "nbformat": 4,
 "nbformat_minor": 2
}
