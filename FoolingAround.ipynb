{
 "cells": [
  {
   "cell_type": "code",
   "execution_count": 1,
   "metadata": {},
   "outputs": [],
   "source": [
    "import numpy as np\n",
    "import math\n",
    "import itertools\n",
    "from functools import cache"
   ]
  },
  {
   "cell_type": "code",
   "execution_count": 2,
   "metadata": {},
   "outputs": [],
   "source": [
    "n = 10\n",
    "q = 2\n",
    "x=np.random.randint(0,q,(n),dtype=np.ubyte)"
   ]
  },
  {
   "cell_type": "code",
   "execution_count": 3,
   "metadata": {},
   "outputs": [],
   "source": [
    "def get_deletion_ball(x, t, N=-1):\n",
    "    if N == -1:\n",
    "        return np.array(list(set(itertools.combinations(x, x.size-t))))\n",
    "    else:\n",
    "        result = set()\n",
    "        for c in itertools.combinations(x, x.size-t):\n",
    "            result.add(c)\n",
    "            if len(result) == N:\n",
    "                break\n",
    "\n",
    "        return np.array(list(result))\n",
    "\n"
   ]
  },
  {
   "cell_type": "code",
   "execution_count": 4,
   "metadata": {},
   "outputs": [
    {
     "name": "stdout",
     "output_type": "stream",
     "text": [
      "For [0 0 1 1 0 1 0 0 0 0] size 10 vector of alphabet 2 we get a radius 1 deletion ball of size 5\n"
     ]
    }
   ],
   "source": [
    "r=1\n",
    "D_x_1 = get_deletion_ball(x,r)\n",
    "print(f'For {x} size {n} vector of alphabet {q} we get a radius {r} deletion ball of size {D_x_1.shape[0]}')"
   ]
  },
  {
   "cell_type": "code",
   "execution_count": 5,
   "metadata": {},
   "outputs": [],
   "source": [
    "def get_composition_vector(x):\n",
    "    k = np.zeros(q,dtype=int)\n",
    "    for i in x:\n",
    "        k[i] += 1\n",
    "    return k\n",
    "\n",
    "def get_ordering(x):\n",
    "    k = get_composition_vector(x)\n",
    "    t = np.argsort(-k, kind='stable') # -k so it will be in descending order\n",
    "    c = k[t]\n",
    "    return t, c\n",
    "\n",
    "def number_of_runs(x):\n",
    "    runs = 1\n",
    "    prev_x = x[0]\n",
    "    for i in x[1:]:\n",
    "        if i != prev_x:\n",
    "            runs += 1\n",
    "        prev_x = i\n",
    "\n",
    "    return runs\n",
    "\n",
    "@cache\n",
    "def get_maximal_deletion_ball_size(n, t, q=2):\n",
    "    if n < t or t < 0:\n",
    "        return 0\n",
    "    if q == 1:\n",
    "        return 1\n",
    "\n",
    "    size = 0\n",
    "    for i in range(t+1):\n",
    "        size += math.comb(n-t, i) * get_maximal_deletion_ball_size(t, t-i, q-1)\n",
    "    return size\n",
    "\n",
    "@cache\n",
    "def get_maximal_insertion_ball_size(n, t, q=2):\n",
    "    if n < 0 or t < 0:\n",
    "        return 0\n",
    "    size = 0\n",
    "    for i in range(t+1):\n",
    "        size += math.comb(n+t, i)*int(math.pow((q-1),i))\n",
    "    return size\n",
    "\n",
    "@cache\n",
    "def get_maximal_number_of_common_subsequences(n, t, q=2):\n",
    "    if n <= t or t <= 0:\n",
    "        return 0\n",
    "    return get_maximal_deletion_ball_size(n,t,q) - get_maximal_deletion_ball_size(n-1,t,q) + get_maximal_deletion_ball_size(n-2,t-1,q)"
   ]
  },
  {
   "cell_type": "code",
   "execution_count": 6,
   "metadata": {},
   "outputs": [
    {
     "name": "stdout",
     "output_type": "stream",
     "text": [
      "[7 3]\n",
      "[0 1]\n",
      "[7 3]\n",
      "[0 0 1 1 0 1 0 0 0 0] 5\n",
      "10\n",
      "12\n",
      "2\n",
      "16\n",
      "24\n"
     ]
    }
   ],
   "source": [
    "k_x = get_composition_vector(x)\n",
    "t_x, l_x = get_ordering(x)\n",
    "print(k_x)\n",
    "print(t_x)\n",
    "print(l_x)\n",
    "print(x, number_of_runs(x))\n",
    "print(get_maximal_deletion_ball_size(n,1))\n",
    "print(get_maximal_insertion_ball_size(n,1))\n",
    "print(get_maximal_number_of_common_subsequences(n,1))\n",
    "print(get_maximal_number_of_common_subsequences(n,2))\n",
    "print(get_maximal_number_of_common_subsequences(7,3, 3))"
   ]
  },
  {
   "cell_type": "code",
   "execution_count": 7,
   "metadata": {},
   "outputs": [],
   "source": [
    "def get_threshold(n, t, order_comp, q=2):\n",
    "    for i in range(q):\n",
    "        N = get_maximal_number_of_common_subsequences(n-i-1,t-i,q)\n",
    "        if N < order_comp[i]:\n",
    "            return i\n",
    "\n",
    "def get_u_a_i(subsequences, a, i=1):\n",
    "    return subsequences[:,subsequences[0,:] == a][1:,:]\n",
    "\n",
    "\n",
    "def reconstruct_x_from_subsequences(n, subsequences, q=2, print_steps=False):\n",
    "    t = n-subsequences.shape[0]\n",
    "    reconstruction = np.array([], dtype=int)\n",
    "    while t >= 1:\n",
    "        order_perm, order_comp = get_ordering(subsequences[0])\n",
    "        j = get_threshold(n, t, order_comp, q)\n",
    "        reconstruction = np.concatenate((reconstruction, order_perm[:j+1]))\n",
    "        if print_steps:\n",
    "            print(j, reconstruction)\n",
    "\n",
    "        n = n-j-1\n",
    "        t = t-j    \n",
    "        N = get_maximal_number_of_common_subsequences(n,t,q)+1\n",
    "        subsequences = get_u_a_i(subsequences, order_perm[j])\n",
    "        subsequences = subsequences[:,:N]\n",
    "        \n",
    "    return np.concatenate((reconstruction, subsequences.T[0]))\n",
    "            \n",
    "    "
   ]
  },
  {
   "cell_type": "code",
   "execution_count": 8,
   "metadata": {},
   "outputs": [
    {
     "name": "stdout",
     "output_type": "stream",
     "text": [
      "7376657\n"
     ]
    }
   ],
   "source": [
    "n = 100\n",
    "t = 5\n",
    "q = 20\n",
    "\n",
    "\n",
    "x=np.random.randint(0,q,(n),dtype=np.ubyte)\n",
    "N = get_maximal_number_of_common_subsequences(n,t,q)+1\n",
    "print(N)\n",
    "D_x = get_deletion_ball(x, t, N)\n",
    "\n",
    "while D_x.shape[0] < N:\n",
    "    print('1')\n",
    "    x=np.random.randint(0,q,(n),dtype=np.ubyte)\n",
    "    D_x = get_deletion_ball(x, t, N)"
   ]
  },
  {
   "cell_type": "code",
   "execution_count": 9,
   "metadata": {},
   "outputs": [
    {
     "name": "stdout",
     "output_type": "stream",
     "text": [
      "(95, 7376657)\n",
      "Reconstructed [ 2  8 14  7  3  9  2 18  8 13  7 14  5  7  9  1  7 11 19 16 11 19  7 15\n",
      "  9  0  2 19 11  3 19  1  6 13 11  7  2  9  8 19  8  2 16 11  1 13 10  9\n",
      " 17  3  2  5 12 12 17 17  2  9 14 11 18 14  5  7  7 17 15 18 13  3 15  5\n",
      "  7  4  2 18 11 10 14  1 11  4  0  1 13 11  2  2 12 19  8  4 15  4 15  2\n",
      "  8  4  2  7]\n",
      "From [ 2  8 14  7  3  9  2 18  8 13  7 14  5  7  9  1  7 11 19 16 11 19  7 15\n",
      "  9  0  2 19 11  3 19  1  6 13 11  7  2  9  8 19  8  2 16 11  1 13 10  9\n",
      " 17  3  2  5 12 12 17 17  2  9 14 11 18 14  5  7  7 17 15 18 13  3 15  5\n",
      "  7  4  2 18 11 10 14  1 11  4  0  1 13 11  2  2 12 19  8  4 15  4 15  2\n",
      "  8  4  2  7]\n",
      "True\n"
     ]
    }
   ],
   "source": [
    "subsequences = D_x.T\n",
    "print(subsequences.shape)\n",
    "# print(get_next_subsequnces(subsequences,0).shape)\n",
    "# print(get_next_subsequnces(subsequences,0))\n",
    "reconstructed_x = reconstruct_x_from_subsequences(n, subsequences, q)\n",
    "print(f'Reconstructed {reconstructed_x}')\n",
    "print(f'From {x}')\n",
    "print(np.array_equal(x, reconstructed_x))"
   ]
  }
 ],
 "metadata": {
  "interpreter": {
   "hash": "3a0222c9ea3c897013f9b32b07e250faafb77857a484b979f2184ec2035b2a26"
  },
  "kernelspec": {
   "display_name": "Python 3.9.5 64-bit ('base': conda)",
   "language": "python",
   "name": "python3"
  },
  "language_info": {
   "codemirror_mode": {
    "name": "ipython",
    "version": 3
   },
   "file_extension": ".py",
   "mimetype": "text/x-python",
   "name": "python",
   "nbconvert_exporter": "python",
   "pygments_lexer": "ipython3",
   "version": "3.10.0"
  },
  "orig_nbformat": 4
 },
 "nbformat": 4,
 "nbformat_minor": 2
}
