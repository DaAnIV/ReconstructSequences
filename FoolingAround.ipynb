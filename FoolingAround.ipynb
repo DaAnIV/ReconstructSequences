{
 "cells": [
  {
   "cell_type": "code",
   "execution_count": 206,
   "metadata": {},
   "outputs": [],
   "source": [
    "import numpy as np\n",
    "import math\n",
    "import itertools\n",
    "from functools import cache"
   ]
  },
  {
   "cell_type": "code",
   "execution_count": 207,
   "metadata": {},
   "outputs": [],
   "source": [
    "n = 10\n",
    "q = 2\n",
    "x=np.random.randint(0,q,(n),dtype=np.ubyte)"
   ]
  },
  {
   "cell_type": "markdown",
   "metadata": {},
   "source": [
    "$D_t(x)$ denotes the $t$ deletion ball of a sequence $x$ of size $n, assuming $t<n$.\\\n",
    "$D_t(x)$ is all of the subsequences of size $t$ of $x$.\n"
   ]
  },
  {
   "cell_type": "code",
   "execution_count": 208,
   "metadata": {},
   "outputs": [],
   "source": [
    "def get_deletion_ball(x, t, N=-1):\n",
    "    if N == -1:\n",
    "        return np.array(list(set(itertools.combinations(x, x.size-t))))\n",
    "    else:\n",
    "        result = set()\n",
    "        for c in itertools.combinations(x, x.size-t):\n",
    "            result.add(c)\n",
    "            if len(result) == N:\n",
    "                break\n",
    "\n",
    "        return np.array(list(result))\n",
    "\n"
   ]
  },
  {
   "cell_type": "code",
   "execution_count": 209,
   "metadata": {},
   "outputs": [
    {
     "name": "stdout",
     "output_type": "stream",
     "text": [
      "For [0 1 0 1 1 1 1 1 1 1] size 10 vector of alphabet 2 we get a radius 1 deletion ball of size 4\n"
     ]
    }
   ],
   "source": [
    "r=1\n",
    "D_x_1 = get_deletion_ball(x,r)\n",
    "print(f'For {x} size {n} vector of alphabet {q} we get a radius {r} deletion ball of size {D_x_1.shape[0]}')"
   ]
  },
  {
   "cell_type": "code",
   "execution_count": 210,
   "metadata": {},
   "outputs": [],
   "source": [
    "def get_composition_vector(x):\n",
    "    k = np.zeros(q,dtype=int)\n",
    "    for i in x:\n",
    "        k[i] += 1\n",
    "    return k\n",
    "\n",
    "def get_ordering(x):\n",
    "    k = get_composition_vector(x)\n",
    "    t = np.argsort(-k, kind='stable') # -k so it will be in descending order\n",
    "    c = k[t]\n",
    "    return t, c\n",
    "\n",
    "def number_of_runs(x):\n",
    "    runs = 1\n",
    "    prev_x = x[0]\n",
    "    for i in x[1:]:\n",
    "        if i != prev_x:\n",
    "            runs += 1\n",
    "        prev_x = i\n",
    "\n",
    "    return runs\n",
    "\n",
    "@cache\n",
    "def get_maximal_deletion_ball_size(n, t, q=2):\n",
    "    if n < t or t < 0:\n",
    "        return 0\n",
    "    if q == 1:\n",
    "        return 1\n",
    "\n",
    "    size = 0\n",
    "    for i in range(t+1):\n",
    "        size += math.comb(n-t, i) * get_maximal_deletion_ball_size(t, t-i, q-1)\n",
    "    return size\n",
    "\n",
    "@cache\n",
    "def get_maximal_insertion_ball_size(n, t, q=2):\n",
    "    if n < 0 or t < 0:\n",
    "        return 0\n",
    "    size = 0\n",
    "    for i in range(t+1):\n",
    "        size += math.comb(n+t, i)*int(math.pow((q-1),i))\n",
    "    return size\n",
    "\n",
    "@cache\n",
    "def get_maximal_number_of_common_subsequences(n, t, q=2):\n",
    "    if n <= t or t <= 0:\n",
    "        return 0\n",
    "    return get_maximal_deletion_ball_size(n,t,q) - get_maximal_deletion_ball_size(n-1,t,q) + get_maximal_deletion_ball_size(n-2,t-1,q)"
   ]
  },
  {
   "cell_type": "code",
   "execution_count": 211,
   "metadata": {},
   "outputs": [
    {
     "name": "stdout",
     "output_type": "stream",
     "text": [
      "[0 1 0 1 1 1 1 1 1 1]\n",
      "[2 8]\n",
      "[1 0]\n",
      "[8 2]\n",
      "[0 1 0 1 1 1 1 1 1 1] 4\n",
      "10\n",
      "12\n",
      "2\n",
      "16\n",
      "24\n"
     ]
    }
   ],
   "source": [
    "k_x = get_composition_vector(x)\n",
    "t_x, l_x = get_ordering(x)\n",
    "print(x)\n",
    "print(k_x)\n",
    "print(t_x)\n",
    "print(l_x)\n",
    "print(x, number_of_runs(x))\n",
    "print(get_maximal_deletion_ball_size(n,1))\n",
    "print(get_maximal_insertion_ball_size(n,1))\n",
    "print(get_maximal_number_of_common_subsequences(n,1))\n",
    "print(get_maximal_number_of_common_subsequences(n,2))\n",
    "print(get_maximal_number_of_common_subsequences(7,3, 3))"
   ]
  },
  {
   "cell_type": "markdown",
   "metadata": {},
   "source": []
  },
  {
   "cell_type": "code",
   "execution_count": 212,
   "metadata": {},
   "outputs": [],
   "source": [
    "def get_threshold(n, t, order_comp, q=2):\n",
    "    for i in range(q):\n",
    "        w_i = order_comp[i]\n",
    "        tau_i = get_maximal_number_of_common_subsequences(n-i-1,t-i,q)\n",
    "        if w_i > tau_i:\n",
    "            return i"
   ]
  },
  {
   "cell_type": "code",
   "execution_count": 213,
   "metadata": {},
   "outputs": [],
   "source": [
    "def get_u_a_i(subsequences, a, i):\n",
    "    if i == 1:\n",
    "        return subsequences[:,subsequences[0,:] == a][1:]\n",
    "    results = []\n",
    "    for s in subsequences.T:\n",
    "        if len(np.where(s == a)[0]) == 0: continue\n",
    "        if np.where(s == a)[0][0] == i-1:\n",
    "            results.append(s)\n",
    "\n",
    "    if len(results) == 0:\n",
    "        return None\n",
    "    \n",
    "    return np.stack(results).T[i:]\n",
    "    "
   ]
  },
  {
   "cell_type": "markdown",
   "metadata": {},
   "source": [
    "The following algorithm reconstructs a sequence $X \\in F_q^n$ given $N_q^-(n,t)+1$ different subsequences of $X$ of size $t$\\\n",
    "The algorithm parameters:\n",
    "* **n**             - The original sequence size to reconstruct.\n",
    "* **subsequences**  - known subsequences of $X$, this is a ndarray of shape $(t, k)$ where $k$ is at least $N_q^-(n,t)+1$.\n",
    "* **q**             - Size of the alphabet, the alphabets is assumed to be $[0,1,\\dots, q-1]$.\n",
    "* **verbose**       - control verbosity.\n",
    "\n",
    "\n"
   ]
  },
  {
   "cell_type": "code",
   "execution_count": 214,
   "metadata": {},
   "outputs": [],
   "source": [
    "def reconstruct_x_from_subsequences(n, subsequences, q=2, verbose=False):\n",
    "    t = n-subsequences.shape[0]\n",
    "    reconstruction = np.array([], dtype=int)\n",
    "    if verbose:\n",
    "        print(subsequences.shape)\n",
    "    while t >= 1:\n",
    "        order_perm, order_comp = get_ordering(subsequences[0])\n",
    "        j = get_threshold(n, t, order_comp, q)\n",
    "        reconstruction = np.concatenate((reconstruction, order_perm[:j+1]))\n",
    "        if verbose:\n",
    "            print(j, reconstruction)\n",
    "\n",
    "        n = n-j-1\n",
    "        t = t-j    \n",
    "        N = get_maximal_number_of_common_subsequences(n,t,q)+1\n",
    "        subsequences = get_u_a_i(subsequences, order_perm[j], 1)\n",
    "        subsequences = subsequences[:,:N]\n",
    "        if verbose:\n",
    "            print(subsequences.shape)\n",
    "        \n",
    "    return np.concatenate((reconstruction, subsequences.T[0]))"
   ]
  },
  {
   "cell_type": "markdown",
   "metadata": {},
   "source": [
    "Let us try and calculate the complexity for q=2"
   ]
  },
  {
   "cell_type": "code",
   "execution_count": 215,
   "metadata": {},
   "outputs": [
    {
     "name": "stdout",
     "output_type": "stream",
     "text": [
      "38\n"
     ]
    }
   ],
   "source": [
    "n = 20\n",
    "t = 2\n",
    "q = 20\n",
    "\n",
    "\n",
    "x=np.random.randint(0,q,(n),dtype=np.ubyte)\n",
    "N = get_maximal_number_of_common_subsequences(n,t,q)+1\n",
    "print(N)\n",
    "D_x = get_deletion_ball(x, t, N)\n",
    "\n",
    "while D_x.shape[0] < N:\n",
    "    print('1')\n",
    "    x=np.random.randint(0,q,(n),dtype=np.ubyte)\n",
    "    D_x = get_deletion_ball(x, t, N)"
   ]
  },
  {
   "cell_type": "code",
   "execution_count": 216,
   "metadata": {},
   "outputs": [
    {
     "name": "stdout",
     "output_type": "stream",
     "text": [
      "[[14 14 14 11 14 14 11 13 14 14 11 14 11 14 14]\n",
      " [13  2 11 13 11 11  2  2 13 11 13 13 13 11 11]\n",
      " [ 2 14 13  2 13  2 14 14  2 14  2 14 14 13  2]\n",
      " [12 12  2 12 14 14 12 12 14 12 14 12 12 12 12]]\n",
      "Reconstructed [17  8 15 13  8 17 16  2 16  8  5  2  3  7 14 11 13  2 14 12]\n",
      "From [17  8 15 13  8 17 16  2 16  8  5  2  3  7 14 11 13  2 14 12]\n",
      "True\n"
     ]
    }
   ],
   "source": [
    "subsequences = D_x.T\n",
    "# print(subsequences.shape)\n",
    "# print(get_next_subsequnces(subsequences,0).shape)\n",
    "# print(get_next_subsequnces(subsequences,0))\n",
    "reconstructed_x = reconstruct_x_from_subsequences(n, subsequences, q)\n",
    "print(f'Reconstructed {reconstructed_x}')\n",
    "print(f'From {x}')\n",
    "print(np.array_equal(x, reconstructed_x))\n",
    "# print(subsequences[0])"
   ]
  },
  {
   "cell_type": "code",
   "execution_count": null,
   "metadata": {},
   "outputs": [],
   "source": [
    "def get_deletion_ball(x, t, N=-1):\n",
    "    if N == -1:\n",
    "        return np.array(list(set(itertools.combinations(x, x.size-t))))\n",
    "    else:\n",
    "        result = set()\n",
    "        for c in itertools.combinations(x, x.size-t):\n",
    "            result.add(c)\n",
    "            if len(result) == N:\n",
    "                break\n",
    "\n",
    "        return np.array(list(result))\n"
   ]
  },
  {
   "cell_type": "code",
   "execution_count": 218,
   "metadata": {},
   "outputs": [],
   "source": [
    "def get_m_vector(subsequences, t, a):\n",
    "    m_vec = np.zeros((t,), dtype=np.uint)\n",
    "    for i in range(t):\n",
    "        u_a_i = get_u_a_i(subsequences, a, i+1)\n",
    "        if u_a_i is None:\n",
    "            m_vec[i] = 0\n",
    "        else:\n",
    "            m_vec[i] = u_a_i.shape[1]\n",
    "\n",
    "    return m_vec"
   ]
  },
  {
   "cell_type": "code",
   "execution_count": 219,
   "metadata": {},
   "outputs": [
    {
     "ename": "ValueError",
     "evalue": "need at least one array to stack",
     "output_type": "error",
     "traceback": [
      "\u001b[0;31m---------------------------------------------------------------------------\u001b[0m",
      "\u001b[0;31mValueError\u001b[0m                                Traceback (most recent call last)",
      "\u001b[0;32m/tmp/ipykernel_242/79464687.py\u001b[0m in \u001b[0;36m<module>\u001b[0;34m\u001b[0m\n\u001b[0;32m----> 1\u001b[0;31m \u001b[0mget_m_vector\u001b[0m\u001b[0;34m(\u001b[0m\u001b[0msubsequences\u001b[0m\u001b[0;34m,\u001b[0m \u001b[0;36m2\u001b[0m\u001b[0;34m,\u001b[0m \u001b[0;36m3\u001b[0m\u001b[0;34m)\u001b[0m\u001b[0;34m\u001b[0m\u001b[0;34m\u001b[0m\u001b[0m\n\u001b[0m",
      "\u001b[0;32m/tmp/ipykernel_242/3433242336.py\u001b[0m in \u001b[0;36mget_m_vector\u001b[0;34m(subsequences, t, a)\u001b[0m\n\u001b[1;32m      2\u001b[0m     \u001b[0mm_vec\u001b[0m \u001b[0;34m=\u001b[0m \u001b[0mnp\u001b[0m\u001b[0;34m.\u001b[0m\u001b[0mzeros\u001b[0m\u001b[0;34m(\u001b[0m\u001b[0;34m(\u001b[0m\u001b[0mt\u001b[0m\u001b[0;34m,\u001b[0m\u001b[0;34m)\u001b[0m\u001b[0;34m,\u001b[0m \u001b[0mdtype\u001b[0m\u001b[0;34m=\u001b[0m\u001b[0mnp\u001b[0m\u001b[0;34m.\u001b[0m\u001b[0muint\u001b[0m\u001b[0;34m)\u001b[0m\u001b[0;34m\u001b[0m\u001b[0;34m\u001b[0m\u001b[0m\n\u001b[1;32m      3\u001b[0m     \u001b[0;32mfor\u001b[0m \u001b[0mi\u001b[0m \u001b[0;32min\u001b[0m \u001b[0mrange\u001b[0m\u001b[0;34m(\u001b[0m\u001b[0mt\u001b[0m\u001b[0;34m)\u001b[0m\u001b[0;34m:\u001b[0m\u001b[0;34m\u001b[0m\u001b[0;34m\u001b[0m\u001b[0m\n\u001b[0;32m----> 4\u001b[0;31m         \u001b[0mm_vec\u001b[0m\u001b[0;34m[\u001b[0m\u001b[0mi\u001b[0m\u001b[0;34m]\u001b[0m \u001b[0;34m=\u001b[0m \u001b[0mget_u_a_i\u001b[0m\u001b[0;34m(\u001b[0m\u001b[0msubsequences\u001b[0m\u001b[0;34m,\u001b[0m \u001b[0ma\u001b[0m\u001b[0;34m,\u001b[0m \u001b[0mi\u001b[0m\u001b[0;34m+\u001b[0m\u001b[0;36m1\u001b[0m\u001b[0;34m)\u001b[0m\u001b[0;34m.\u001b[0m\u001b[0mshape\u001b[0m\u001b[0;34m[\u001b[0m\u001b[0;36m1\u001b[0m\u001b[0;34m]\u001b[0m\u001b[0;34m\u001b[0m\u001b[0;34m\u001b[0m\u001b[0m\n\u001b[0m\u001b[1;32m      5\u001b[0m \u001b[0;34m\u001b[0m\u001b[0m\n\u001b[1;32m      6\u001b[0m     \u001b[0;32mreturn\u001b[0m \u001b[0mm_vec\u001b[0m\u001b[0;34m\u001b[0m\u001b[0;34m\u001b[0m\u001b[0m\n",
      "\u001b[0;32m/tmp/ipykernel_242/3316313396.py\u001b[0m in \u001b[0;36mget_u_a_i\u001b[0;34m(subsequences, a, i)\u001b[0m\n\u001b[1;32m      8\u001b[0m             \u001b[0mresults\u001b[0m\u001b[0;34m.\u001b[0m\u001b[0mappend\u001b[0m\u001b[0;34m(\u001b[0m\u001b[0ms\u001b[0m\u001b[0;34m)\u001b[0m\u001b[0;34m\u001b[0m\u001b[0;34m\u001b[0m\u001b[0m\n\u001b[1;32m      9\u001b[0m \u001b[0;34m\u001b[0m\u001b[0m\n\u001b[0;32m---> 10\u001b[0;31m     \u001b[0;32mreturn\u001b[0m \u001b[0mnp\u001b[0m\u001b[0;34m.\u001b[0m\u001b[0mstack\u001b[0m\u001b[0;34m(\u001b[0m\u001b[0mresults\u001b[0m\u001b[0;34m)\u001b[0m\u001b[0;34m.\u001b[0m\u001b[0mT\u001b[0m\u001b[0;34m[\u001b[0m\u001b[0mi\u001b[0m\u001b[0;34m:\u001b[0m\u001b[0;34m]\u001b[0m\u001b[0;34m\u001b[0m\u001b[0;34m\u001b[0m\u001b[0m\n\u001b[0m\u001b[1;32m     11\u001b[0m \u001b[0;34m\u001b[0m\u001b[0m\n",
      "\u001b[0;32m<__array_function__ internals>\u001b[0m in \u001b[0;36mstack\u001b[0;34m(*args, **kwargs)\u001b[0m\n",
      "\u001b[0;32m~/miniconda3/envs/CnA4M/lib/python3.10/site-packages/numpy/core/shape_base.py\u001b[0m in \u001b[0;36mstack\u001b[0;34m(arrays, axis, out)\u001b[0m\n\u001b[1;32m    420\u001b[0m     \u001b[0marrays\u001b[0m \u001b[0;34m=\u001b[0m \u001b[0;34m[\u001b[0m\u001b[0masanyarray\u001b[0m\u001b[0;34m(\u001b[0m\u001b[0marr\u001b[0m\u001b[0;34m)\u001b[0m \u001b[0;32mfor\u001b[0m \u001b[0marr\u001b[0m \u001b[0;32min\u001b[0m \u001b[0marrays\u001b[0m\u001b[0;34m]\u001b[0m\u001b[0;34m\u001b[0m\u001b[0;34m\u001b[0m\u001b[0m\n\u001b[1;32m    421\u001b[0m     \u001b[0;32mif\u001b[0m \u001b[0;32mnot\u001b[0m \u001b[0marrays\u001b[0m\u001b[0;34m:\u001b[0m\u001b[0;34m\u001b[0m\u001b[0;34m\u001b[0m\u001b[0m\n\u001b[0;32m--> 422\u001b[0;31m         \u001b[0;32mraise\u001b[0m \u001b[0mValueError\u001b[0m\u001b[0;34m(\u001b[0m\u001b[0;34m'need at least one array to stack'\u001b[0m\u001b[0;34m)\u001b[0m\u001b[0;34m\u001b[0m\u001b[0;34m\u001b[0m\u001b[0m\n\u001b[0m\u001b[1;32m    423\u001b[0m \u001b[0;34m\u001b[0m\u001b[0m\n\u001b[1;32m    424\u001b[0m     \u001b[0mshapes\u001b[0m \u001b[0;34m=\u001b[0m \u001b[0;34m{\u001b[0m\u001b[0marr\u001b[0m\u001b[0;34m.\u001b[0m\u001b[0mshape\u001b[0m \u001b[0;32mfor\u001b[0m \u001b[0marr\u001b[0m \u001b[0;32min\u001b[0m \u001b[0marrays\u001b[0m\u001b[0;34m}\u001b[0m\u001b[0;34m\u001b[0m\u001b[0;34m\u001b[0m\u001b[0m\n",
      "\u001b[0;31mValueError\u001b[0m: need at least one array to stack"
     ]
    }
   ],
   "source": [
    "get_m_vector(subsequences, 2, 3)"
   ]
  }
 ],
 "metadata": {
  "interpreter": {
   "hash": "3a0222c9ea3c897013f9b32b07e250faafb77857a484b979f2184ec2035b2a26"
  },
  "kernelspec": {
   "display_name": "Python 3.9.5 64-bit ('base': conda)",
   "language": "python",
   "name": "python3"
  },
  "language_info": {
   "codemirror_mode": {
    "name": "ipython",
    "version": 3
   },
   "file_extension": ".py",
   "mimetype": "text/x-python",
   "name": "python",
   "nbconvert_exporter": "python",
   "pygments_lexer": "ipython3",
   "version": "3.10.0"
  },
  "orig_nbformat": 4
 },
 "nbformat": 4,
 "nbformat_minor": 2
}
