{
 "cells": [
  {
   "cell_type": "markdown",
   "metadata": {},
   "source": [
    "# Base Algorithm as shown in the paper\n",
    "\n",
    "we will show the complexity calculation of each of the relevant functions and sum up the complexity for the algorithm as a whole."
   ]
  },
  {
   "cell_type": "code",
   "execution_count": 8,
   "metadata": {},
   "outputs": [],
   "source": [
    "import numpy as np\n",
    "import math\n",
    "import itertools\n",
    "from tool.common_reconstruction import *"
   ]
  },
  {
   "cell_type": "code",
   "execution_count": 9,
   "metadata": {},
   "outputs": [],
   "source": [
    "def get_deletion_ball(x, t, N=-1):\n",
    "    if N == -1:\n",
    "        return np.array(list(set(itertools.combinations(x, x.size-t))))\n",
    "    else:\n",
    "        result = set()\n",
    "        for c in itertools.combinations(x, x.size-t):\n",
    "            result.add(c)\n",
    "            if len(result) == N:\n",
    "                break\n",
    "\n",
    "        return np.array(list(result))"
   ]
  },
  {
   "cell_type": "code",
   "execution_count": 10,
   "metadata": {},
   "outputs": [
    {
     "name": "stdout",
     "output_type": "stream",
     "text": [
      "(45, 7)\n"
     ]
    }
   ],
   "source": [
    "n = 10\n",
    "t = 3\n",
    "q = 2\n",
    "\n",
    "x=np.random.randint(0,q,(n),dtype=np.ubyte)\n",
    "N = get_maximal_number_of_common_subsequences(n,t,q)+1\n",
    "D_x = get_deletion_ball(x, t, N)\n",
    "\n",
    "while D_x.shape[0] < N:\n",
    "    x=np.random.randint(0,q,(n),dtype=np.ubyte)\n",
    "    D_x = get_deletion_ball(x, t, N)\n",
    "print(D_x.shape)\n",
    "with open(\"tool/tests/subsequences_10.txt\", 'w') as f:\n",
    "    for s in D_x:\n",
    "        string = str(s)[1:-1]\n",
    "        f.write(string + '\\n')\n",
    "with open(\"tool/tests/subsequences_10_result.txt\", 'w') as f:\n",
    "    f.write(str(x) + '\\n')"
   ]
  },
  {
   "cell_type": "code",
   "execution_count": 11,
   "metadata": {},
   "outputs": [],
   "source": [
    "def get_insertion_ball(x, t, q=2, N=-1):\n",
    "    result = set()\n",
    "    n = x.shape[0]\n",
    "    for indices in itertools.combinations_with_replacement(range(n+1), t):\n",
    "        for letters in itertools.product(range(q), repeat=t):\n",
    "            result.add(tuple(np.insert(x, indices, letters)))\n",
    "\n",
    "            if len(result) == N:\n",
    "                return np.array(list(result))\n",
    "\n",
    "    return np.array(list(result))"
   ]
  },
  {
   "cell_type": "code",
   "execution_count": 12,
   "metadata": {},
   "outputs": [
    {
     "name": "stdout",
     "output_type": "stream",
     "text": [
      "(185, 13)\n"
     ]
    }
   ],
   "source": [
    "n = 10\n",
    "t = 3\n",
    "q = 2\n",
    "x=np.random.randint(0,q,(n),dtype=np.ubyte)\n",
    "N = get_maximal_number_of_common_supersequences(n, t)+1\n",
    "I_x = get_insertion_ball(x, t, q, N)\n",
    "if I_x.shape[0] < N:\n",
    "    raise Exception(\"Ball is too small, change parameters\")\n",
    "\n",
    "print(I_x.shape)\n",
    "with open(\"tool/tests/supersequences_10.txt\", 'w') as f:\n",
    "    for s in I_x:\n",
    "        string = str(s)[1:-1]\n",
    "        f.write(string + '\\n')\n",
    "with open(\"tool/tests/supersequences_10_result.txt\", 'w') as f:\n",
    "    f.write(str(x) + '\\n')"
   ]
  }
 ],
 "metadata": {
  "interpreter": {
   "hash": "3a0222c9ea3c897013f9b32b07e250faafb77857a484b979f2184ec2035b2a26"
  },
  "kernelspec": {
   "display_name": "Python 3.9.5 64-bit ('base': conda)",
   "language": "python",
   "name": "python3"
  },
  "language_info": {
   "codemirror_mode": {
    "name": "ipython",
    "version": 3
   },
   "file_extension": ".py",
   "mimetype": "text/x-python",
   "name": "python",
   "nbconvert_exporter": "python",
   "pygments_lexer": "ipython3",
   "version": "3.10.0"
  },
  "orig_nbformat": 4
 },
 "nbformat": 4,
 "nbformat_minor": 2
}
